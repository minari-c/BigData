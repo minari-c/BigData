{
 "nbformat": 4,
 "nbformat_minor": 0,
 "metadata": {
  "colab": {
   "provenance": [],
   "collapsed_sections": []
  },
  "kernelspec": {
   "name": "python3",
   "display_name": "Python 3"
  },
  "language_info": {
   "name": "python"
  }
 },
 "cells": [
  {
   "cell_type": "code",
   "execution_count": 4,
   "metadata": {
    "colab": {
     "base_uri": "https://localhost:8080/"
    },
    "id": "FfMIuSYUNJRI",
    "outputId": "32d40e84-ffc3-454a-883b-a31e12cc98c5"
   },
   "outputs": [
    {
     "output_type": "stream",
     "name": "stdout",
     "text": [
      "[4.6 3.6 1.  0.2] : setosa\n",
      "[5.  3.6 1.4 0.2] : setosa\n",
      "[6.3 2.3 4.4 1.3] : versicolor\n",
      "[5.1 3.8 1.6 0.2] : setosa\n",
      "[6.3 3.3 4.7 1.6] : versicolor\n",
      "[6.4 2.8 5.6 2.2] : virginica\n",
      "[6.  2.7 5.1 1.6] : virginica\n",
      "[6.7 3.3 5.7 2.1] : virginica\n",
      "[4.8 3.1 1.6 0.2] : setosa\n",
      "[5.5 2.6 4.4 1.2] : versicolor\n",
      "[6.4 3.2 5.3 2.3] : virginica\n",
      "[5.7 2.5 5.  2. ] : virginica\n",
      "[5.  3.4 1.6 0.4] : setosa\n",
      "[6.5 3.  5.2 2. ] : virginica\n",
      "[7.7 2.6 6.9 2.3] : virginica\n",
      "[5.8 2.7 5.1 1.9] : virginica\n",
      "[4.4 3.2 1.3 0.2] : setosa\n",
      "[6.1 3.  4.9 1.8] : virginica\n",
      "[5.8 2.7 5.1 1.9] : virginica\n",
      "[6.4 3.2 4.5 1.5] : versicolor\n",
      "[4.9 2.5 4.5 1.7] : versicolor\n",
      "[5.1 3.5 1.4 0.2] : setosa\n",
      "[6.1 2.8 4.  1.3] : versicolor\n",
      "[6.  3.4 4.5 1.6] : versicolor\n",
      "[5.5 2.3 4.  1.3] : versicolor\n",
      "[6.4 2.8 5.6 2.1] : virginica\n",
      "[5.6 3.  4.5 1.5] : versicolor\n",
      "[6.5 3.  5.5 1.8] : virginica\n",
      "[5.8 2.8 5.1 2.4] : virginica\n",
      "[7.3 2.9 6.3 1.8] : virginica\n",
      "테스트 세트의 정확도 : 0.9333333333333333\n"
     ]
    }
   ],
   "source": [
    "from sklearn.datasets import load_iris\n",
    "from sklearn.neighbors import KNeighborsClassifier\n",
    "from sklearn.model_selection import train_test_split\n",
    "\n",
    "iris_dataset = load_iris()\n",
    "\n",
    "knn = KNeighborsClassifier(n_neighbors=8)\n",
    "\n",
    "X_train, X_test, y_train, y_test = train_test_split(iris_dataset['data'], iris_dataset['target'], test_size=0.2)\n",
    "\n",
    "knn.fit(X_train, y_train)\n",
    "\n",
    "y_prediction = knn.predict(X_test)  # X_test(data)에 대하여 품종예측\n",
    "\n",
    "for i in range(0, len(y_prediction)):\n",
    "\ty_pred = y_prediction[i]\n",
    "\tprint(\"{} : {}\".format(X_test[i], iris_dataset['target_names'][y_pred]))\n",
    "\n",
    "print(\"테스트 세트의 정확도 :\", knn.score(X_test, y_test))\n",
    "\n",
    "# n-neighbors: 5\n",
    "# 테스트 세트의 정확도 :\n",
    "# 0.9666666666666667\n",
    "# 0.9333333333333333\n",
    "# 0.9333333333333333\n",
    "# 0.9666666666666667\n",
    "# 0.9\n",
    "# =========5회==========\n",
    "# 0.9666666666666667\n",
    "# 0.9333333333333333\n",
    "# 0.9666666666666667\n",
    "# 0.9666666666666667\n",
    "# 0.9333333333333333\n",
    "\n",
    "# n-neighbors: 8\n",
    "# 테스트 세트의 정확도 :\n",
    "# 0.9666666666666667\n",
    "# 0.9\n",
    "# 0.9666666666666667\n",
    "# 1.0\n",
    "# 0.9666666666666667\n",
    "# =========5회==========\n",
    "# 0.9666666666666667\n",
    "# 0.9333333333333333\n",
    "# 0.9666666666666667\n",
    "# 1.0\n",
    "# 0.9333333333333333"
   ]
  }
 ]
}
