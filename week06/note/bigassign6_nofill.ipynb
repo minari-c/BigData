{
 "nbformat": 4,
 "nbformat_minor": 0,
 "metadata": {
  "colab": {
   "provenance": [],
   "collapsed_sections": []
  },
  "kernelspec": {
   "name": "python3",
   "display_name": "Python 3"
  },
  "language_info": {
   "name": "python"
  }
 },
 "cells": [
  {
   "cell_type": "markdown",
   "source": [
    "1.patientinfos.csv 파일의 환자 정보 중 \n",
    "1)중복된 데이타의 개수를 print하고     \n",
    "2)중복된 데이타를 제거하는 code를 작성하시오. \n"
   ],
   "metadata": {
    "id": "-ATqUc9VNtsu"
   }
  },
  {
   "cell_type": "code",
   "execution_count": null,
   "metadata": {
    "id": "bi5tIvSgNsmG"
   },
   "outputs": [],
   "source": [
    "%reset -f\n",
    "import pandas as pd\n",
    "\n",
    "df = pd.read_csv('../csv/PatientInfos.csv', header=0)\n",
    "\n",
    "print(df.duplicated().sum())\n",
    "df.drop_duplicates()\n"
   ]
  },
  {
   "cell_type": "markdown",
   "source": [
    "2.1)'mpg.csv'에 fl 열을 기준ㅇ로  'fuel.csv'파일정보를 병합하고  \n",
    "2) fl 열 기준으로 group으로 나누어 'displ'값의 평균을 print하는 code를 작성하시오,  "
   ],
   "metadata": {
    "id": "CZhOOEQIN2bM"
   }
  },
  {
   "cell_type": "code",
   "source": [
    "%reset -f \n",
    "import pandas as pd\n",
    "\n",
    "df_mpg = pd.read_csv('../csv/mpg.csv',  header=0)\n",
    "df_fuel = pd.read_csv('../csv/fuel.csv', header=0)\n",
    "\n",
    "merge_df = pd.merge(left=df_mpg, right=df_fuel, how='left', on='fl')\n",
    "print(merge_df.groupby(by='fl')['displ'].sum())\n",
    "\n"
   ],
   "metadata": {
    "id": "SetaE5jkN7Kk"
   },
   "execution_count": null,
   "outputs": []
  },
  {
   "cell_type": "markdown",
   "source": [
    "3.'exam.csv' 파일을 읽고\n",
    "1) nclass와 year 을 기준으로 group을 나누고 group 별 'math','english','science' 평균을 출력하고  \n",
    "2) 'math_pass' 라는 열을 추가 하고 math 점수가 80이상이면 'pass' 아니면 'fail' 이라고 저장하고   \n",
    "3) 'eng_pass' 라는 열을 추가 하고 english 점수가 90이상이면 'pass' 아니면 'fail' 이라고 저장하고     \n",
    "3) 'math_pass','eng_pass'를 기준으로 group을 나눈 후 group별 science 평균을 print하는   \n",
    "code를 작성하시오\n"
   ],
   "metadata": {
    "id": "v6Mbq5v8OCXs"
   }
  },
  {
   "cell_type": "code",
   "source": [
    "%reset -f\n",
    "import pandas as pd\n",
    "\n",
    "df = pd.read_csv('../csv/exam.csv')\n",
    "\n",
    "# 1)\n",
    "df_group = df.groupby(by=['nclass', 'year'])\n",
    "print(df_group.mean().iloc[1:])\n",
    "# FutureWarning: Indexing with multiple keys (implicitly converted to a tuple of keys) will be deprecated, use a list instead.\n",
    "#   print(df_group['math', 'english', 'science'].mean())\n",
    "\n",
    "# 2)\n",
    "def is_pass(math, thresh):\n",
    "\tresult = 'pass'\n",
    "\tif math < thresh:\n",
    "\t\tresult = 'fail'\n",
    "\telse:\n",
    "\t\tresult = 'pass'\n",
    "\treturn result\n",
    "\n",
    "\n",
    "df['math_pass'] = df.apply(lambda x: is_pass(x['math'], 80), axis=1)\n",
    "print(df['math_pass'])\n",
    "df['eng_pass'] = df.apply(lambda x: is_pass(x['english'], 90), axis=1)\n",
    "print(df['eng_pass'])\n",
    "\n",
    "print(df.groupby(by=['math_pass', 'eng_pass'])['science'].mean())\n"
   ],
   "metadata": {
    "id": "G6WEq6ClOKa1"
   },
   "execution_count": null,
   "outputs": []
  },
  {
   "cell_type": "markdown",
   "source": [
    "4.exams.csv 파일을 열고  \n",
    "1) 데이터 프레임의 요약 정보를 print하고    \n",
    "2) math 열의 데이터 type이 int가 될 수 있도록\n",
    "  int가 아닌 데이터가 들어 있는 행을 삭제하고  \n",
    "3) math열의 데이터 형을 int로 변경하고   \n",
    "3) 요약 정보를 다시 print하는 code를 작성 하시오.    \n",
    "\n"
   ],
   "metadata": {
    "id": "tMvdRGj2gGjp"
   }
  },
  {
   "cell_type": "code",
   "source": [
    "%reset -f \n",
    "import numpy as np\n",
    "import pandas as pd\n",
    "\n",
    "df = pd.read_csv('../csv/exam_s.csv', header=0)\n",
    "# 01\n",
    "# print(df.info(), end='\\n\\n')\n",
    "\n",
    "# 02\n",
    "def isndigit(x: str) -> bool:\n",
    "\treturn not x.isdigit()\n",
    "\n",
    "df.mask(df['math'].apply(lambda x: isndigit(x)), inplace=True)  # change float64\n",
    "df.dropna(inplace=True)\n",
    "\n",
    "# 03\n",
    "df['math'] = df['math'].astype('int64')\n",
    "# or df = df.astype('int64')\n",
    "\n",
    "# 04\n",
    "print(df.info())\n",
    "\n"
   ],
   "metadata": {
    "id": "ANHzOFZlghfU"
   },
   "execution_count": null,
   "outputs": []
  }
 ]
}
