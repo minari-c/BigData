{
  "cells": [
    {
      "cell_type": "markdown",
      "metadata": {
        "id": "fCLXlvFsrgf6"
      },
      "source": [
        "Copyright (c) 2019 [윤기태]\n",
        "\n",
        "https://github.com/yoonkt200/python-data-analysis\n",
        "\n",
        "[MIT License](https://github.com/yoonkt200/python-data-analysis/blob/master/LICENSE.txt)\n",
        "\n",
        "'이것이 데이터 분석이다' 참고"
      ]
    },
    {
      "cell_type": "markdown",
      "metadata": {
        "id": "TfX87HuzrggB"
      },
      "source": [
        "비트코인 시세 예측하기"
      ]
    },
    {
      "cell_type": "code",
      "execution_count": 7,
      "metadata": {
        "id": "YR0XouZ2rggE"
      },
      "outputs": [],
      "source": [
        "# -*- coding: utf-8 -*-\n",
        "\n",
        "%matplotlib inline\n",
        "\n",
        "import pandas as pd\n",
        "import numpy as np\n",
        "import matplotlib.pyplot as plt\n",
        "\n",
        "import warnings\n",
        "warnings.filterwarnings(\"ignore\")"
      ]
    },
    {
      "cell_type": "code",
      "execution_count": 8,
      "metadata": {
        "id": "Nze1PD0CrggI"
      },
      "outputs": [],
      "source": [
        "# Data Source : https://www.blockchain.com/ko/charts/market-price?timespan=60days\n",
        "\n",
        "file_path = '/content/market-price.csv'\n",
        "bitcoin_df = pd.read_csv(file_path, names = ['day', 'price'])"
      ]
    },
    {
      "cell_type": "code",
      "execution_count": null,
      "metadata": {
        "id": "V52irJQorggJ"
      },
      "outputs": [],
      "source": [
        "# 기본 정보를 출력합니다.\n",
        "print(bitcoin_df.shape)\n",
        "print(bitcoin_df.info())"
      ]
    },
    {
      "cell_type": "code",
      "execution_count": null,
      "metadata": {
        "id": "dd8fdJWgrggL"
      },
      "outputs": [],
      "source": [
        "bitcoin_df.tail()"
      ]
    },
    {
      "cell_type": "markdown",
      "metadata": {
        "id": "D0Y_6PqZrggM"
      },
      "source": [
        "-----"
      ]
    },
    {
      "cell_type": "markdown",
      "metadata": {
        "id": "m3VG7TbtrggM"
      },
      "source": [
        "### [시계열 데이터 살펴보기]"
      ]
    },
    {
      "cell_type": "code",
      "execution_count": null,
      "metadata": {
        "id": "HQUmh2gzrggN"
      },
      "outputs": [],
      "source": [
        "# to_datetime으로 day 피처를 시계열 피처로 변환합니다. \n",
        "bitcoin_df['day'] = pd.to_datetime(bitcoin_df['day'])\n",
        "\n",
        "# day 데이터프레임의 index로 설정합니다.\n",
        "bitcoin_df.index = bitcoin_df['day']\n",
        "bitcoin_df.set_index('day', inplace=True)\n",
        "bitcoin_df.head()"
      ]
    },
    {
      "cell_type": "code",
      "execution_count": null,
      "metadata": {
        "id": "n1wWSeDzrggO"
      },
      "outputs": [],
      "source": [
        "bitcoin_df.describe()"
      ]
    },
    {
      "cell_type": "code",
      "execution_count": null,
      "metadata": {
        "id": "5XqfabsKrggP"
      },
      "outputs": [],
      "source": [
        "# 일자별 비트코인 시세를 시각화합니다.\n",
        "bitcoin_df.plot()\n",
        "plt.show()"
      ]
    },
    {
      "cell_type": "markdown",
      "metadata": {
        "id": "QChfPoyKrggP"
      },
      "source": [
        "-----"
      ]
    },
    {
      "cell_type": "markdown",
      "metadata": {
        "id": "D2yzGs1CrggR"
      },
      "source": [
        "### [ARIMA 모델 활용하기]"
      ]
    },
    {
      "cell_type": "code",
      "execution_count": null,
      "metadata": {
        "id": "xorgFKIcrggS"
      },
      "outputs": [],
      "source": [
        "from statsmodels.tsa.arima_model import ARIMA\n",
        "import statsmodels.api as sm\n",
        "\n",
        "# (AR=2, 차분=1, MA=2) 파라미터로 ARIMA 모델을 학습합니다.\n",
        "model = ARIMA(bitcoin_df.price.values, order=(2,1,2))\n",
        "model_fit = model.fit(trend='c', full_output=True, disp=True)\n",
        "print(model_fit.summary())"
      ]
    },
    {
      "cell_type": "code",
      "execution_count": null,
      "metadata": {
        "id": "vuIEQazDrggT"
      },
      "outputs": [],
      "source": [
        "fig = model_fit.plot_predict() # 학습 데이터에 대한 예측 결과입니다. (첫번째 그래프)\n",
        "residuals = pd.DataFrame(model_fit.resid) # 잔차의 변동을 시각화합니다. (두번째 그래프)\n",
        "residuals.plot()"
      ]
    },
    {
      "cell_type": "markdown",
      "metadata": {
        "id": "1o8-8Rx_rggU"
      },
      "source": [
        "###### 실제 데이터와의 비교"
      ]
    },
    {
      "cell_type": "code",
      "execution_count": 14,
      "metadata": {
        "id": "MfFQ0fkirggV"
      },
      "outputs": [],
      "source": [
        "forecast_data = model_fit.forecast(steps=5) # 학습 데이터셋으로부터 5일 뒤를 예측합니다.\n",
        "\n",
        "# 테스트 데이터셋을 불러옵니다.\n",
        "test_file_path = '/content/market-price-test.csv'\n",
        "bitcoin_test_df = pd.read_csv(test_file_path, names=['ds', 'y'])\n",
        "\n",
        "pred_y = forecast_data[0].tolist() # 마지막 5일의 예측 데이터입니다. (2018-08-27 ~ 2018-08-31)\n",
        "test_y = bitcoin_test_df.y.values # 실제 5일 가격 데이터입니다. (2018-08-27 ~ 2018-08-31)\n",
        "pred_y_lower = [] # 마지막 5일의 예측 데이터의 최소값입니다.\n",
        "pred_y_upper = [] # 마지막 5일의 예측 데이터의 최대값입니다.\n",
        "for lower_upper in forecast_data[2]:\n",
        "    lower = lower_upper[0]\n",
        "    upper = lower_upper[1]\n",
        "    pred_y_lower.append(lower)\n",
        "    pred_y_upper.append(upper)"
      ]
    },
    {
      "cell_type": "code",
      "execution_count": null,
      "metadata": {
        "id": "wdzXBQqfrggW"
      },
      "outputs": [],
      "source": [
        "plt.plot(pred_y, color=\"gold\") # 모델이 예상한 가격 그래프입니다.\n",
        "plt.plot(pred_y_lower, color=\"red\") # 모델이 예상한 최소가격 그래프입니다.\n",
        "plt.plot(pred_y_upper, color=\"blue\") # 모델이 예상한 최대가격 그래프입니다.\n",
        "plt.plot(test_y, color=\"green\") # 실제 가격 그래프입니다."
      ]
    },
    {
      "cell_type": "code",
      "execution_count": null,
      "metadata": {
        "id": "fg-oI9tcrggX"
      },
      "outputs": [],
      "source": [
        "plt.plot(pred_y, color=\"gold\") # 모델이 예상한 가격 그래프입니다.\n",
        "plt.plot(test_y, color=\"green\") # 실제 가격 그래프입니다."
      ]
    },
    {
      "cell_type": "markdown",
      "metadata": {
        "id": "c1GIPXNnrggY"
      },
      "source": [
        "-----"
      ]
    },
    {
      "cell_type": "code",
      "execution_count": 17,
      "metadata": {
        "colab": {
          "base_uri": "https://localhost:8080/"
        },
        "id": "75OrQWXUrggY",
        "outputId": "98edaf97-811c-42e7-ad33-efe3dcb4b1ff"
      },
      "outputs": [
        {
          "output_type": "stream",
          "name": "stdout",
          "text": [
            "ARIMA RMSE 270.6861216387701\n"
          ]
        }
      ],
      "source": [
        "from sklearn.metrics import mean_squared_error, r2_score\n",
        "from math import sqrt\n",
        "\n",
        "rmse = sqrt(mean_squared_error(pred_y, test_y))\n",
        "print('ARIMA RMSE',rmse)"
      ]
    },
    {
      "cell_type": "markdown",
      "metadata": {
        "id": "0c9bxtgorggZ"
      },
      "source": [
        "-----"
      ]
    },
    {
      "cell_type": "markdown",
      "metadata": {
        "id": "K2Ork-4Brgga"
      },
      "source": [
        "### [Facebook Prophet 활용하기]"
      ]
    },
    {
      "cell_type": "markdown",
      "metadata": {
        "id": "EODvta29rggb"
      },
      "source": [
        "###### Prophet 모델 학습"
      ]
    },
    {
      "cell_type": "code",
      "source": [
        "!pip install fbprophet\n",
        "!pip install prophet"
      ],
      "metadata": {
        "id": "JOj_fyMUsJMT"
      },
      "execution_count": null,
      "outputs": []
    },
    {
      "cell_type": "code",
      "execution_count": 19,
      "metadata": {
        "id": "P-z3Y-n-rggc"
      },
      "outputs": [],
      "source": [
        "from prophet import Prophet"
      ]
    },
    {
      "cell_type": "code",
      "execution_count": null,
      "metadata": {
        "id": "74YY3ZZfrggc"
      },
      "outputs": [],
      "source": [
        "# prophet을 사용하기 위해서는 다음과 같이 피처의 이름을 변경해야 합니다 : 'ds', 'y'\n",
        "bitcoin_df = pd.read_csv(file_path, names=['ds', 'y'])\n",
        "prophet = Prophet(seasonality_mode='multiplicative', \n",
        "                  yearly_seasonality=True,\n",
        "                  weekly_seasonality=True, daily_seasonality=True,\n",
        "                  changepoint_prior_scale=0.5)\n",
        "prophet.fit(bitcoin_df)"
      ]
    },
    {
      "cell_type": "markdown",
      "metadata": {
        "id": "_aqR2bDJrggd"
      },
      "source": [
        "-----"
      ]
    },
    {
      "cell_type": "code",
      "execution_count": 21,
      "metadata": {
        "id": "gKvZZpwArgge"
      },
      "outputs": [],
      "source": [
        "# 5일을 내다보며 예측합니다.\n",
        "future_data = prophet.make_future_dataframe(periods=5, freq='d')\n",
        "forecast_data = prophet.predict(future_data)"
      ]
    },
    {
      "cell_type": "code",
      "execution_count": null,
      "metadata": {
        "id": "5ki5qJzxrggf"
      },
      "outputs": [],
      "source": [
        "forecast_data.tail(5)"
      ]
    },
    {
      "cell_type": "code",
      "execution_count": null,
      "metadata": {
        "id": "Un4TzIrUrggf"
      },
      "outputs": [],
      "source": [
        "forecast_data[['ds', 'yhat', 'yhat_lower', 'yhat_upper']].tail(5)"
      ]
    },
    {
      "cell_type": "markdown",
      "metadata": {
        "id": "Z6n7HvD7rggg"
      },
      "source": [
        "-----"
      ]
    },
    {
      "cell_type": "markdown",
      "metadata": {
        "id": "Mcjj__d6rggg"
      },
      "source": [
        "###### 결과의 시각화"
      ]
    },
    {
      "cell_type": "markdown",
      "metadata": {
        "id": "KFY0Fvuwrggh"
      },
      "source": [
        "- 전체 데이터를 기반으로 학습한, 5일 단위의 예측 결과를 시각화합니다."
      ]
    },
    {
      "cell_type": "code",
      "execution_count": null,
      "metadata": {
        "id": "jEUSbzsqrggh"
      },
      "outputs": [],
      "source": [
        "fig1 = prophet.plot(forecast_data)"
      ]
    },
    {
      "cell_type": "markdown",
      "metadata": {
        "id": "r80gt0iXrggi"
      },
      "source": [
        "-----"
      ]
    },
    {
      "cell_type": "markdown",
      "metadata": {
        "id": "SXW9OF8jrggi"
      },
      "source": [
        "- seasonality_mode로 설정했었던 기간별 트렌드 정보를 시각화합니다."
      ]
    },
    {
      "cell_type": "code",
      "execution_count": null,
      "metadata": {
        "id": "bWnFFBUvrggj"
      },
      "outputs": [],
      "source": [
        "fig2 = prophet.plot_components(forecast_data)"
      ]
    },
    {
      "cell_type": "markdown",
      "metadata": {
        "id": "CH-dlihvrggj"
      },
      "source": [
        "-----"
      ]
    },
    {
      "cell_type": "markdown",
      "metadata": {
        "id": "TdOXnMS8rggm"
      },
      "source": [
        "###### 실제 데이터와의 비교\n",
        "- 예측 결과인 마지막 5일의 예측값을 실제 데이터와 비교해봅니다.\n"
      ]
    },
    {
      "cell_type": "code",
      "execution_count": 26,
      "metadata": {
        "id": "PqOOkOUTrggm"
      },
      "outputs": [],
      "source": [
        "bitcoin_test_df = pd.read_csv(test_file_path, names=['ds', 'y'])\n",
        "\n",
        "pred_y = forecast_data.yhat.values[-5:] # 마지막 5일의 예측 데이터입니다. (2018-08-27 ~ 2018-08-31)\n",
        "test_y = bitcoin_test_df.y.values # 실제 5일 가격 데이터입니다. (2018-08-27 ~ 2018-08-31)\n",
        "pred_y_lower = forecast_data.yhat_lower.values[-5:] # 마지막 5일의 예측 데이터의 최소값입니다.\n",
        "pred_y_upper = forecast_data.yhat_upper.values[-5:] # 마지막 5일의 예측 데이터의 최대값입니다."
      ]
    },
    {
      "cell_type": "code",
      "execution_count": null,
      "metadata": {
        "id": "reaiZrbhrggn"
      },
      "outputs": [],
      "source": [
        "plt.plot(pred_y, color=\"gold\") # 모델이 예상한 가격 그래프입니다.\n",
        "plt.plot(pred_y_lower, color=\"red\") # 모델이 예상한 최소가격 그래프입니다.\n",
        "plt.plot(pred_y_upper, color=\"blue\") # 모델이 예상한 최대가격 그래프입니다.\n",
        "plt.plot(test_y, color=\"green\") # 실제 가격 그래프입니다."
      ]
    },
    {
      "cell_type": "code",
      "execution_count": null,
      "metadata": {
        "id": "lql_-Gw9rggn"
      },
      "outputs": [],
      "source": [
        "plt.plot(pred_y, color=\"gold\") # 모델이 예상한 가격 그래프입니다.\n",
        "plt.plot(test_y, color=\"green\") # 실제 가격 그래프입니다."
      ]
    },
    {
      "cell_type": "markdown",
      "metadata": {
        "id": "PpTYOa-YrghL"
      },
      "source": [
        "-----"
      ]
    },
    {
      "cell_type": "code",
      "execution_count": 29,
      "metadata": {
        "colab": {
          "base_uri": "https://localhost:8080/"
        },
        "id": "-fgLKqIQrghM",
        "outputId": "ca784cce-b901-456a-d679-c2111b6d4b83"
      },
      "outputs": [
        {
          "output_type": "stream",
          "name": "stdout",
          "text": [
            "178.2595478797358\n",
            "##### fbProphet RMSE for test data 178.2595478797358\n"
          ]
        }
      ],
      "source": [
        "rmse = sqrt(mean_squared_error(pred_y, test_y))\n",
        "print(rmse)\n",
        "print('##### fbProphet RMSE for test data',rmse)"
      ]
    }
  ],
  "metadata": {
    "kernelspec": {
      "display_name": "Python 3",
      "language": "python",
      "name": "python3"
    },
    "language_info": {
      "codemirror_mode": {
        "name": "ipython",
        "version": 3
      },
      "file_extension": ".py",
      "mimetype": "text/x-python",
      "name": "python",
      "nbconvert_exporter": "python",
      "pygments_lexer": "ipython3",
      "version": "3.8.10"
    },
    "toc": {
      "base_numbering": 1,
      "nav_menu": {},
      "number_sections": true,
      "sideBar": true,
      "skip_h1_title": false,
      "title_cell": "Table of Contents",
      "title_sidebar": "Contents",
      "toc_cell": false,
      "toc_position": {},
      "toc_section_display": true,
      "toc_window_display": true
    },
    "colab": {
      "provenance": []
    }
  },
  "nbformat": 4,
  "nbformat_minor": 0
}