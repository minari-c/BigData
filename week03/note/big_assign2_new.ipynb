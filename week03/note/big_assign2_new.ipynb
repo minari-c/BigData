{
 "nbformat": 4,
 "nbformat_minor": 0,
 "metadata": {
  "colab": {
   "provenance": [],
   "collapsed_sections": []
  },
  "kernelspec": {
   "name": "python3",
   "display_name": "Python 3"
  },
  "language_info": {
   "name": "python"
  }
 },
 "cells": [
  {
   "cell_type": "markdown",
   "source": [
    "1.아래와 같은 구조를 갖는 시리즈를 만들고 print 하는 code를 아래 셀에  작성한 후 실행하시오. 교안의 예제1-1 참고\n",
    "\n",
    "\n",
    "|||\n",
    "|-|-|\n",
    "|e|5|\n",
    "|d|6|\n",
    "|f|7|\n",
    "|g|8|\n",
    "\n"
   ],
   "metadata": {
    "id": "XGRZkfQG-CSH",
    "pycharm": {
     "name": "#%% md\n"
    }
   }
  },
  {
   "cell_type": "code",
   "source": [
    "%reset -f\n",
    "#과제 1\n",
    "import pandas as pd\n",
    "\n",
    "dic = {'e':5, 'd':6, 'f':7, 'g':8}\n",
    "\n",
    "sr = pd.Series(dic)\n",
    "\n",
    "print(sr)"
   ],
   "metadata": {
    "id": "rEV-JSUQHMHw",
    "colab": {
     "base_uri": "https://localhost:8080/"
    },
    "outputId": "71c1ae1a-6245-4db6-ae5f-b8391d3e9947",
    "pycharm": {
     "name": "#%%\n"
    }
   },
   "execution_count": null,
   "outputs": [
    {
     "output_type": "stream",
     "name": "stdout",
     "text": [
      "e    5\n",
      "d    6\n",
      "f    7\n",
      "g    8\n",
      "dtype: int64\n"
     ]
    }
   ]
  },
  {
   "cell_type": "markdown",
   "source": [
    "2.아래와 같은 구조를 갖는 시리즈를 파이썬 리스트를 이용해 만들고 print 하는 code를 아래 셀에  작성한 후 실행하시오. 교안의 예제1-2 참고\n",
    "\n",
    "\n",
    "|||\n",
    "|-|-|\n",
    "|0|amy|\n",
    "|1|15|\n",
    "|2|cse|\n",
    "|3|3|"
   ],
   "metadata": {
    "id": "aeIHBDaXBjdY",
    "pycharm": {
     "name": "#%% md\n"
    }
   }
  },
  {
   "cell_type": "code",
   "source": [
    "%reset -f\n",
    "#과제 2\n",
    "import pandas as pd\n",
    "\n",
    "list = ['amy', 15, 'cse', 3]\n",
    "\n",
    "sr = pd.Series(list)\n",
    "\n",
    "print(sr)"
   ],
   "metadata": {
    "id": "QvpuPIQHix-N",
    "colab": {
     "base_uri": "https://localhost:8080/"
    },
    "outputId": "a027af03-b1d1-46e9-d1d1-fb416918dedb",
    "pycharm": {
     "name": "#%%\n"
    }
   },
   "execution_count": null,
   "outputs": [
    {
     "output_type": "stream",
     "name": "stdout",
     "text": [
      "0    amy\n",
      "1     15\n",
      "2    cse\n",
      "3      3\n",
      "dtype: object\n"
     ]
    }
   ]
  },
  {
   "cell_type": "markdown",
   "source": [
    "3.아래와 같은 구조를 갖는 시리즈를   \n",
    "1) 파이썬 튜플과 index option을 이용하여 만들고 print 하는 code를 아래 셀에  작성한 후 실행하시오. 교안의 예제1-3 (1) 참고 \n",
    "\n",
    "|||\n",
    "|-|-|\n",
    "|이름|우석|\n",
    "|생년월일|2003-01-03|\n",
    "|성별|남|\n",
    "|학교|true|"
   ],
   "metadata": {
    "id": "9doVg-W9-6j_",
    "pycharm": {
     "name": "#%% md\n"
    }
   }
  },
  {
   "cell_type": "code",
   "source": [
    "%reset -f\n",
    "#과제 3\n",
    "import pandas as pd\n",
    "\n",
    "tuple = ('우석', '2003-01-03', '남', True)\n",
    "\n",
    "sr = pd.Series(tuple, index = ['이름', '생년월일', '성별', '학교'])\n",
    "\n",
    "print(sr)"
   ],
   "metadata": {
    "id": "NPH_5r7DBi4L",
    "colab": {
     "base_uri": "https://localhost:8080/"
    },
    "outputId": "71188c57-f400-482f-fa13-21c138ee95cb",
    "pycharm": {
     "name": "#%%\n"
    }
   },
   "execution_count": null,
   "outputs": [
    {
     "output_type": "stream",
     "name": "stdout",
     "text": [
      "이름              우석\n",
      "생년월일    2003-01-03\n",
      "성별               남\n",
      "학교            True\n",
      "dtype: object\n"
     ]
    }
   ]
  },
  {
   "cell_type": "markdown",
   "source": [
    "4.아래와 같은 구조를 갖는 데이터 프레임을 딕셔너리를 이용하여  만들고 print 하는 code를 아래 셀에  작성한 후 실행하시오. 교안의 예제 1-4 참고\n",
    "\n",
    "\n",
    "||e1|e2|e3|\n",
    "|-|-|-|-|\n",
    "|0|1|2|3|\n",
    "|1|4|3|4|\n",
    "|2|5|3|2|"
   ],
   "metadata": {
    "id": "JenW-aaDix94",
    "pycharm": {
     "name": "#%% md\n"
    }
   }
  },
  {
   "cell_type": "code",
   "source": [
    "%reset -f\n",
    "#과제 4\n",
    "import pandas as pd\n",
    "\n",
    "dic = {'e1':[1, 4, 5], 'e2':[2, 3, 3], 'e3':[3, 4, 2]}\n",
    "\n",
    "df = pd.DataFrame(dic)\n",
    "\n",
    "print(df)"
   ],
   "metadata": {
    "id": "1ySywsZfgztB",
    "colab": {
     "base_uri": "https://localhost:8080/"
    },
    "outputId": "15c935bb-c168-4827-e125-22bce6dc8795",
    "pycharm": {
     "name": "#%%\n"
    }
   },
   "execution_count": null,
   "outputs": [
    {
     "output_type": "stream",
     "name": "stdout",
     "text": [
      "   e1  e2  e3\n",
      "0   1   2   3\n",
      "1   4   3   4\n",
      "2   5   3   2\n"
     ]
    }
   ]
  },
  {
   "cell_type": "markdown",
   "source": [
    "5.아래와 같은 구조를 갖는 데이터 프레임을 리스트와 행 인덱스, 열 인덱스 지정방법으로  만들고 print 하는 code를 아래 셀에  작성한 후 실행하시오. 교안의 예제 1-5 참고\n",
    "\n",
    "\n",
    "||나이|성별|취미|\n",
    "|-|-|-|-|\n",
    "|우석|22|남|피아노|\n",
    "|나라|23|여|산책|\n"
   ],
   "metadata": {
    "id": "DAD6yskllzZd",
    "pycharm": {
     "name": "#%% md\n"
    }
   }
  },
  {
   "cell_type": "code",
   "source": [
    "%reset -f\n",
    "#과제 5\n",
    "import pandas as pd\n",
    "\n",
    "df = pd.DataFrame([[22, '남', '피아노'], [23, '여', '산책']], \n",
    "                  index = ['우석', '나라'],\n",
    "                  columns = ['나이', '성별', '취미'])\n",
    "\n",
    "print(df)"
   ],
   "metadata": {
    "id": "-7H36PCPlxus",
    "colab": {
     "base_uri": "https://localhost:8080/"
    },
    "outputId": "d5432135-bd95-4abe-906f-9718d82da991",
    "pycharm": {
     "name": "#%%\n"
    }
   },
   "execution_count": null,
   "outputs": [
    {
     "output_type": "stream",
     "name": "stdout",
     "text": [
      "    나이 성별   취미\n",
      "우석  22  남  피아노\n",
      "나라  23  여   산책\n"
     ]
    }
   ]
  },
  {
   "cell_type": "markdown",
   "source": [
    "6.행 인덱스/열 이름 설정  ( 교안 예제 1-5,1-6)  \n",
    "1) 아래와 같은 구조를 갖는 데이터 프레임을 리스트와 행 인덱스, 열 인덱스 지정방법으로  만들고 print 하고  \n",
    "\n",
    "||나이|학교|취미|\n",
    "|-|-|-|-|\n",
    "|우석|17|고등|피아노|\n",
    "|나라|14|중등|산책|\n",
    "\n",
    "2) 아래와 같은 구조를 가지도록 속성을 지정하여 변경하고 print\n",
    "\n",
    "||age|school|hobby|\n",
    "|-|-|-|-|\n",
    "|student1|17|고등|피아노|\n",
    "|student2|14|중등|산책|\n",
    "\n",
    "\n",
    "3) 다시 아래와 같은 구조를 가지도록 속성을 지정하여 변경하고 (원본 객체 변경) print \n",
    "\n",
    "||feat1|feat2|fest3|\n",
    "|-|-|-|-|\n",
    "|data1|17|고등|피아노|\n",
    "|data2|14|중등|산책|\n",
    "\n",
    "하는 code를 아래 cell에 작성하고 실행 하시오. "
   ],
   "metadata": {
    "id": "qZ4lTbXXmya5",
    "pycharm": {
     "name": "#%% md\n"
    }
   }
  },
  {
   "cell_type": "code",
   "source": [
    "from pandas.io.formats.style_render import DataFrame\n",
    "%reset -f\n",
    "#과제 6\n",
    "import pandas as pd\n",
    "\n",
    "df = pd.DataFrame([[17, '고등', '피아노'], [14, '중등', '산책']], \n",
    "                  index = ['우석', '나라'],\n",
    "                  columns = ['나이', '학교', '취미'])\n",
    "print(df)\n",
    "print('\\n')\n",
    "\n",
    "df.index = ['student1', 'student2']\n",
    "df.columns = ['age', 'school', 'hobby']\n",
    "print(df)\n",
    "print('\\n')\n",
    "\n",
    "df.rename(index = {'student1':'data1', 'student2':'data2'}, inplace = True)\n",
    "df.rename(columns = {'age':'feat1', 'school':'feat2', 'hobby':'feat3'}, inplace = True)\n",
    "print(df)"
   ],
   "metadata": {
    "id": "rW8kHhAIpY9p",
    "colab": {
     "base_uri": "https://localhost:8080/"
    },
    "outputId": "a58798a3-acbd-40b0-bf1f-ab819bfef737",
    "pycharm": {
     "name": "#%%\n"
    }
   },
   "execution_count": null,
   "outputs": [
    {
     "output_type": "stream",
     "name": "stdout",
     "text": [
      "    나이  학교   취미\n",
      "우석  17  고등  피아노\n",
      "나라  14  중등   산책\n",
      "\n",
      "\n",
      "          age school hobby\n",
      "student1   17     고등   피아노\n",
      "student2   14     중등    산책\n",
      "\n",
      "\n",
      "       feat1 feat2 feat3\n",
      "data1     17    고등   피아노\n",
      "data2     14    중등    산책\n"
     ]
    }
   ]
  },
  {
   "cell_type": "markdown",
   "source": [
    "7.아래와 같은 구조를 갖는  데이터 프레임에서 \n",
    "1) 우석의 행을 삭제하고 print하는 code와  \n",
    "2) 나라와 민정의 행을 삭제하고 print 하는 code  \n",
    "3) 나이의 열를 삭제하고 print하는 code와  \n",
    "4) 구분과 학교의 열을 데이터를 삭제하고 print 하는 code를 아래 cell에 작성 하고 실행 하시오. (교안 1-7,1-8 참조)\n",
    "\n",
    "||나이|구분|취미|학교 |\n",
    "|-|-|-|-|-|\n",
    "|우석|17|고등|독서|선경|\n",
    "|인아|14|중등|산책|한국|\n",
    "|나라|12|초등|축구|우성|\n",
    "|민정|19|고등|독서|효성|\n",
    "|서준|15|중등|농구|상성|\n"
   ],
   "metadata": {
    "id": "TSeBK_DXrS42",
    "pycharm": {
     "name": "#%% md\n"
    }
   }
  },
  {
   "cell_type": "code",
   "source": [
    "%reset -f\n",
    "#과제 7\n",
    "import pandas as pd\n",
    "student_data = {'나이': [17,14,12,19,15], '구분':['고등','중등','초등','고등','중등'], '취미':['독서','산책','축구', '독서','농구'], '학교':['선경','한국','우성','효성','상성'] }    \n",
    "df=pd.DataFrame(student_data,index=['우석', '인아', '나라', '민정', '서준'])\n",
    "print(df)\n",
    "print('\\n')\n",
    "\n",
    "df1=df[:]\n",
    "# 1) \n",
    "df1.drop('우석', inplace = True)\n",
    "print(df1)\n",
    "print('\\n')\n",
    "\n",
    "df2=df[:]\n",
    "# 2) \n",
    "df2.drop(['나라', '민정'], inplace = True)\n",
    "print(df2)\n",
    "print('\\n')\n",
    "\n",
    "df3=df[:]\n",
    "# 3)\n",
    "df3.drop('나이', axis = 1, inplace = True)\n",
    "print(df3) \n",
    "print('\\n')\n",
    "\n",
    "df4=df[:]\n",
    "# 4) \n",
    "df4.drop(['구분', '학교'], axis = 1, inplace = True)\n",
    "print(df4) "
   ],
   "metadata": {
    "id": "rVueVatHppCI",
    "colab": {
     "base_uri": "https://localhost:8080/"
    },
    "outputId": "364df4bb-0bfb-4b2a-a253-e0d9214aca6e",
    "pycharm": {
     "name": "#%%\n"
    }
   },
   "execution_count": null,
   "outputs": [
    {
     "output_type": "stream",
     "name": "stdout",
     "text": [
      "    나이  구분  취미  학교\n",
      "우석  17  고등  독서  선경\n",
      "인아  14  중등  산책  한국\n",
      "나라  12  초등  축구  우성\n",
      "민정  19  고등  독서  효성\n",
      "서준  15  중등  농구  상성\n",
      "\n",
      "\n",
      "    나이  구분  취미  학교\n",
      "인아  14  중등  산책  한국\n",
      "나라  12  초등  축구  우성\n",
      "민정  19  고등  독서  효성\n",
      "서준  15  중등  농구  상성\n",
      "\n",
      "\n",
      "    나이  구분  취미  학교\n",
      "우석  17  고등  독서  선경\n",
      "인아  14  중등  산책  한국\n",
      "서준  15  중등  농구  상성\n",
      "\n",
      "\n",
      "    구분  취미  학교\n",
      "우석  고등  독서  선경\n",
      "인아  중등  산책  한국\n",
      "나라  초등  축구  우성\n",
      "민정  고등  독서  효성\n",
      "서준  중등  농구  상성\n",
      "\n",
      "\n",
      "    나이  취미\n",
      "우석  17  독서\n",
      "인아  14  산책\n",
      "나라  12  축구\n",
      "민정  19  독서\n",
      "서준  15  농구\n"
     ]
    },
    {
     "output_type": "stream",
     "name": "stderr",
     "text": [
      "/usr/local/lib/python3.7/dist-packages/pandas/core/frame.py:4913: SettingWithCopyWarning: \n",
      "A value is trying to be set on a copy of a slice from a DataFrame\n",
      "\n",
      "See the caveats in the documentation: https://pandas.pydata.org/pandas-docs/stable/user_guide/indexing.html#returning-a-view-versus-a-copy\n",
      "  errors=errors,\n",
      "/usr/local/lib/python3.7/dist-packages/pandas/core/frame.py:4913: SettingWithCopyWarning: \n",
      "A value is trying to be set on a copy of a slice from a DataFrame\n",
      "\n",
      "See the caveats in the documentation: https://pandas.pydata.org/pandas-docs/stable/user_guide/indexing.html#returning-a-view-versus-a-copy\n",
      "  errors=errors,\n",
      "/usr/local/lib/python3.7/dist-packages/pandas/core/frame.py:4913: SettingWithCopyWarning: \n",
      "A value is trying to be set on a copy of a slice from a DataFrame\n",
      "\n",
      "See the caveats in the documentation: https://pandas.pydata.org/pandas-docs/stable/user_guide/indexing.html#returning-a-view-versus-a-copy\n",
      "  errors=errors,\n",
      "/usr/local/lib/python3.7/dist-packages/pandas/core/frame.py:4913: SettingWithCopyWarning: \n",
      "A value is trying to be set on a copy of a slice from a DataFrame\n",
      "\n",
      "See the caveats in the documentation: https://pandas.pydata.org/pandas-docs/stable/user_guide/indexing.html#returning-a-view-versus-a-copy\n",
      "  errors=errors,\n"
     ]
    }
   ]
  },
  {
   "cell_type": "markdown",
   "source": [
    "8.아래와 같은 구조를 갖는  데이터 프레임에서  \n",
    "1) 인아의 행을 선택하고 print하는 code를 loc을 이용한 방법 iloc 을 아용한 방법으로   \n",
    "2) 나라와 민정의 행을 선택하고 print하는 code를 loc을 이용한 방법 iloc 을 아용한 방법으로  \n",
    "3) 취미와 학교 열을 선택 하고 print하는 code  \n",
    "를 아래셀에 작성 하고 실행 하시오. (예제  1-9,1-10)\n",
    "\n",
    "\n",
    "||나이|구분|취미|학교 |\n",
    "|-|-|-|-|-|\n",
    "|우석|17|고등|독서|선경|\n",
    "|인아|14|중등|산책|한국|\n",
    "|나라|12|초등|축구|우성|\n",
    "|민정|19|고등|독서|효성|\n",
    "|서준|15|중등|농구|상성|\n"
   ],
   "metadata": {
    "id": "RvHETXaewKjs",
    "pycharm": {
     "name": "#%% md\n"
    }
   }
  },
  {
   "cell_type": "code",
   "source": [
    "%reset -f\n",
    "#과제 8\n",
    "import pandas as pd\n",
    "student_data = {'나이': [17,14,12,19,15], '구분':['고등','중등','초등','고등','중등'], '취미':['독서','산책','축구', '독서','농구'], '학교':['선경','한국','우성','효성','상성'] }    \n",
    "df=pd.DataFrame(student_data,index=['우석', '인아', '나라', '민정', '서준'])\n",
    "print(df.loc['우석','구분'])\n",
    "print('\\n')\n",
    "\n",
    "print('df.loc')\n",
    "print(df.loc['인아'])\n",
    "print('\\n')\n",
    "\n",
    "print('df.iloc')\n",
    "print(df.iloc[1])\n",
    "print('\\n')\n",
    "\n",
    "print('df.loc')\n",
    "print(df.loc[['나라', '민정']])\n",
    "print('\\n')\n",
    "\n",
    "print('df.iloc')\n",
    "print(df.iloc[[2, 3]])\n",
    "print('\\n')\n",
    "\n",
    "print(df[['취미', '학교']])"
   ],
   "metadata": {
    "colab": {
     "base_uri": "https://localhost:8080/"
    },
    "id": "lbACuFlgxpDS",
    "outputId": "6bb9ad9e-0637-4d59-d9f2-2bd72efe3444",
    "pycharm": {
     "name": "#%%\n"
    }
   },
   "execution_count": null,
   "outputs": [
    {
     "output_type": "stream",
     "name": "stdout",
     "text": [
      "고등\n",
      "\n",
      "\n",
      "df.loc\n",
      "나이    14\n",
      "구분    중등\n",
      "취미    산책\n",
      "학교    한국\n",
      "Name: 인아, dtype: object\n",
      "\n",
      "\n",
      "df.iloc\n",
      "나이    14\n",
      "구분    중등\n",
      "취미    산책\n",
      "학교    한국\n",
      "Name: 인아, dtype: object\n",
      "\n",
      "\n",
      "df.loc\n",
      "    나이  구분  취미  학교\n",
      "나라  12  초등  축구  우성\n",
      "민정  19  고등  독서  효성\n",
      "\n",
      "\n",
      "df.iloc\n",
      "    나이  구분  취미  학교\n",
      "나라  12  초등  축구  우성\n",
      "민정  19  고등  독서  효성\n",
      "\n",
      "\n",
      "    취미  학교\n",
      "우석  독서  선경\n",
      "인아  산책  한국\n",
      "나라  축구  우성\n",
      "민정  독서  효성\n",
      "서준  농구  상성\n"
     ]
    }
   ]
  },
  {
   "cell_type": "markdown",
   "source": [
    "9.아래와 같은 구조를 갖는  데이터 프레임에서  \n",
    "1) 인아의 취미를 선택 하고 print하는  code를 loc과 iloc을 이용하여 작성  \n",
    "2) 나라와 민정의 취미와 학교를 선택하고 print하는 code를 loc과 iloc을 이용하여 아래 cell에 작성하고 실행 하시오.  (예제 1-11)\n",
    "\n",
    "||나이|구분|취미|학교 |\n",
    "|-|-|-|-|-|\n",
    "|우석|17|고등|독서|선경|\n",
    "|인아|14|중등|산책|한국|\n",
    "|나라|12|초등|축구|우성|\n",
    "|민정|19|고등|독서|효성|\n",
    "|서준|15|중등|농구|상성|\n"
   ],
   "metadata": {
    "id": "aXfWI8vByR2M",
    "pycharm": {
     "name": "#%% md\n"
    }
   }
  },
  {
   "cell_type": "code",
   "source": [
    "%reset -f\n",
    "#과제 9\n",
    "import pandas as pd\n",
    "student_data = {'나이': [17,14,12,19,15], '구분':['고등','중등','초등','고등','중등'], '취미':['독서','산책','축구', '독서','농구'], '학교':['선경','한국','우성','효성','상성'] }    \n",
    "df=pd.DataFrame(student_data,index=['우석', '인아', '나라', '민정', '서준'])\n",
    "print(df)\n",
    "print('\\n')\n",
    "\n",
    "print('df.loc')\n",
    "print(df.loc['인아', '취미'])\n",
    "print('\\n')\n",
    "\n",
    "print('df.iloc')\n",
    "print(df.iloc[1, 2])\n",
    "print('\\n')\n",
    "\n",
    "print('df.loc')\n",
    "print(df.loc['나라':'민정', '취미':'학교'])\n",
    "print('\\n')\n",
    "\n",
    "print('df.iloc')\n",
    "print(df.iloc[2:4, 2:4])"
   ],
   "metadata": {
    "id": "8mLXAgpty72X",
    "colab": {
     "base_uri": "https://localhost:8080/"
    },
    "outputId": "ad724d86-0eff-4772-811e-f1b68c5cbc10",
    "pycharm": {
     "name": "#%%\n"
    }
   },
   "execution_count": null,
   "outputs": [
    {
     "output_type": "stream",
     "name": "stdout",
     "text": [
      "    나이  구분  취미  학교\n",
      "우석  17  고등  독서  선경\n",
      "인아  14  중등  산책  한국\n",
      "나라  12  초등  축구  우성\n",
      "민정  19  고등  독서  효성\n",
      "서준  15  중등  농구  상성\n",
      "\n",
      "\n",
      "df.loc\n",
      "산책\n",
      "\n",
      "\n",
      "df.iloc\n",
      "산책\n",
      "\n",
      "\n",
      "df.loc\n",
      "    취미  학교\n",
      "나라  축구  우성\n",
      "민정  독서  효성\n",
      "\n",
      "\n",
      "df.iloc\n",
      "    취미  학교\n",
      "나라  축구  우성\n",
      "민정  독서  효성\n"
     ]
    }
   ]
  },
  {
   "cell_type": "markdown",
   "source": [
    "10.아래와 같은 구조를 갖는  데이터 프레임에서  \n",
    "1) '영어'  열을 추가 하고 모든 값을 90점으로 입력하고 print  code를 작성 하시오.  \n",
    "2) '영진'  행을 추가 하고 값을 18, 고등, 배구, 선경,90 으로 입력하고 print code를   \n",
    "3)  나라의 취미와 학교를 농구, 선경으로 변경하고 print하는 code를 \n",
    "작성 하고 실행하시오. (예제 1-12, 1-13,1-14)\n",
    "\n",
    "||나이|구분|취미|학교 |\n",
    "|-|-|-|-|-|\n",
    "|우석|17|고등|독서|선경|\n",
    "|인아|14|중등|산책|한국|\n",
    "|나라|12|초등|축구|우성|\n",
    "|민정|19|고등|독서|효성|\n",
    "|서준|15|중등|농구|상성|"
   ],
   "metadata": {
    "id": "hoJ_EOjszH-U",
    "pycharm": {
     "name": "#%% md\n"
    }
   }
  },
  {
   "cell_type": "code",
   "source": [
    "%reset -f\n",
    "#과제 10\n",
    "import pandas as pd\n",
    "student_data = {'이름':['우석', '인아', '나라', '민정', '서준'],\n",
    "                '나이': [17,14,12,19,15], \n",
    "                '구분':['고등','중등','초등','고등','중등'], \n",
    "                '취미':['독서','산책','축구', '독서','농구'], \n",
    "                '학교':['선경','한국','우성','효성','상성'] }    \n",
    "df=pd.DataFrame(student_data)\n",
    "print(df)\n",
    "print('\\n')\n",
    "\n",
    "df['영어'] = 90\n",
    "print(df)\n",
    "print('\\n')\n",
    "\n",
    "df.loc[5] = ['영진', 18, '고등', '배구', '선경', 90]\n",
    "print(df)\n",
    "print('\\n')\n",
    "\n",
    "df.iloc[2][3] = '농구'\n",
    "df.iloc[2][4] = '선경'\n",
    "print(df)"
   ],
   "metadata": {
    "id": "uLd_EQQ50GZQ",
    "colab": {
     "base_uri": "https://localhost:8080/"
    },
    "outputId": "4e992346-f3dd-4887-d5d4-2a89e4ddfae5",
    "pycharm": {
     "name": "#%%\n"
    }
   },
   "execution_count": null,
   "outputs": [
    {
     "output_type": "stream",
     "name": "stdout",
     "text": [
      "   이름  나이  구분  취미  학교\n",
      "0  우석  17  고등  독서  선경\n",
      "1  인아  14  중등  산책  한국\n",
      "2  나라  12  초등  축구  우성\n",
      "3  민정  19  고등  독서  효성\n",
      "4  서준  15  중등  농구  상성\n",
      "\n",
      "\n",
      "   이름  나이  구분  취미  학교  영어\n",
      "0  우석  17  고등  독서  선경  90\n",
      "1  인아  14  중등  산책  한국  90\n",
      "2  나라  12  초등  축구  우성  90\n",
      "3  민정  19  고등  독서  효성  90\n",
      "4  서준  15  중등  농구  상성  90\n",
      "\n",
      "\n",
      "   이름  나이  구분  취미  학교  영어\n",
      "0  우석  17  고등  독서  선경  90\n",
      "1  인아  14  중등  산책  한국  90\n",
      "2  나라  12  초등  축구  우성  90\n",
      "3  민정  19  고등  독서  효성  90\n",
      "4  서준  15  중등  농구  상성  90\n",
      "5  영진  18  고등  배구  선경  90\n",
      "\n",
      "\n",
      "   이름  나이  구분  취미  학교  영어\n",
      "0  우석  17  고등  독서  선경  90\n",
      "1  인아  14  중등  산책  한국  90\n",
      "2  나라  12  초등  축구  우성  90\n",
      "3  민정  19  고등  독서  효성  90\n",
      "4  서준  15  중등  농구  상성  90\n",
      "5  영진  18  고등  배구  선경  90\n"
     ]
    },
    {
     "output_type": "stream",
     "name": "stderr",
     "text": [
      "/usr/local/lib/python3.7/dist-packages/pandas/core/series.py:1056: SettingWithCopyWarning: \n",
      "A value is trying to be set on a copy of a slice from a DataFrame\n",
      "\n",
      "See the caveats in the documentation: https://pandas.pydata.org/pandas-docs/stable/user_guide/indexing.html#returning-a-view-versus-a-copy\n",
      "  cacher_needs_updating = self._check_is_chained_assignment_possible()\n"
     ]
    }
   ]
  },
  {
   "cell_type": "markdown",
   "source": [
    "11.아래와 같은 구조를 갖는 데이터 프레임에서  \n",
    "1) '이름' 열을 행 index로 지정하고   \n",
    "2) 행 index 기준으로 sorting(오름 차순) 하고 print하는 code를 작성하시오.     \n",
    " (예제 1-17~19)\n",
    "\n",
    "|이름|나이|구분|취미|학교 |\n",
    "|-|-|-|-|-|\n",
    "|우석|17|고등|독서|선경|\n",
    "|인아|14|중등|산책|한국|\n",
    "|나라|12|초등|축구|우성|\n",
    "|민정|19|고등|독서|효성|\n",
    "|서준|15|중등|농구|상성|"
   ],
   "metadata": {
    "id": "05z4YL0V4VdG",
    "pycharm": {
     "name": "#%% md\n"
    }
   }
  },
  {
   "cell_type": "code",
   "source": [
    "%reset -f\n",
    "#과제 11\n",
    "import pandas as pd\n",
    "student_data = {'이름':['우석', '인아', '나라', '민정', '서준'],\n",
    "                '나이': [17,14,12,19,15], \n",
    "                '구분':['고등','중등','초등','고등','중등'], \n",
    "                '취미':['독서','산책','축구', '독서','농구'], \n",
    "                '학교':['선경','한국','우성','효성','상성'] }    \n",
    "df=pd.DataFrame(student_data)\n",
    "print(df)\n",
    "print('\\n')\n",
    "\n",
    "new_index = student_data['이름']\n",
    "df1 = df.reindex(new_index)\n",
    "print(df1)\n",
    "print('\\n')\n",
    "\n",
    "df2 = df1.sort_index(ascending=True)\n",
    "print(df2)"
   ],
   "metadata": {
    "id": "FlzSQmdE4-ww",
    "colab": {
     "base_uri": "https://localhost:8080/"
    },
    "outputId": "2f05eae5-4b69-4834-abb3-b2453fe1154a",
    "pycharm": {
     "name": "#%%\n"
    }
   },
   "execution_count": null,
   "outputs": [
    {
     "output_type": "stream",
     "name": "stdout",
     "text": [
      "   이름  나이  구분  취미  학교\n",
      "0  우석  17  고등  독서  선경\n",
      "1  인아  14  중등  산책  한국\n",
      "2  나라  12  초등  축구  우성\n",
      "3  민정  19  고등  독서  효성\n",
      "4  서준  15  중등  농구  상성\n",
      "\n",
      "\n",
      "     이름  나이   구분   취미   학교\n",
      "우석  NaN NaN  NaN  NaN  NaN\n",
      "인아  NaN NaN  NaN  NaN  NaN\n",
      "나라  NaN NaN  NaN  NaN  NaN\n",
      "민정  NaN NaN  NaN  NaN  NaN\n",
      "서준  NaN NaN  NaN  NaN  NaN\n",
      "\n",
      "\n",
      "     이름  나이   구분   취미   학교\n",
      "나라  NaN NaN  NaN  NaN  NaN\n",
      "민정  NaN NaN  NaN  NaN  NaN\n",
      "서준  NaN NaN  NaN  NaN  NaN\n",
      "우석  NaN NaN  NaN  NaN  NaN\n",
      "인아  NaN NaN  NaN  NaN  NaN\n"
     ]
    }
   ]
  },
  {
   "cell_type": "markdown",
   "source": [
    "12.(선택) 과제에 upload되어 있는 Case.csv   \n",
    "1) 파일을 읽어 데이터 프레임에 저장하고    \n",
    "2) 'city' 열을 삭제하고     \n",
    "3) 'country' 열을 추가 하여 모든 값을 'korea'로 정하고  \n",
    "10) 'case2.csv' 파일로 저장 하는 code를   \n",
    "아래 cell에 작성하고 실행 하시오.   "
   ],
   "metadata": {
    "id": "FiJnBwWP618E",
    "pycharm": {
     "name": "#%% md\n"
    }
   }
  },
  {
   "cell_type": "code",
   "source": [
    "%reset -f\n",
    "#과제 12\n",
    "import pandas as pd\n",
    "\n",
    "df = pd.read_csv('./Case.csv')\n",
    "print(df)\n",
    "print('\\n')\n",
    "\n",
    "df1 = df[:]\n",
    "df1.drop('city', axis = 1, inplace = True)\n",
    "print(df1)\n",
    "print('\\n')\n",
    "\n",
    "df1['country'] = 'korea'\n",
    "print(df1)\n",
    "print('\\n')\n",
    "\n",
    "df1.to_csv('./case2.csv')"
   ],
   "metadata": {
    "id": "pA-G-oUn8vzj",
    "colab": {
     "base_uri": "https://localhost:8080/"
    },
    "outputId": "80f272e9-d305-46ae-b747-437a4caa7826",
    "pycharm": {
     "name": "#%%\n"
    }
   },
   "execution_count": null,
   "outputs": [
    {
     "output_type": "stream",
     "name": "stdout",
     "text": [
      "     case_id          province           city  group  \\\n",
      "0    1000001             Seoul        Guro-gu   True   \n",
      "1    1000002             Seoul  Dongdaemun-gu   True   \n",
      "2    1000003             Seoul        Guro-gu   True   \n",
      "3    1000004             Seoul   Eunpyeong-gu   True   \n",
      "4    1000005             Seoul   Seongdong-gu   True   \n",
      "..       ...               ...            ...    ...   \n",
      "97   6100007  Gyeongsangnam-do              -  False   \n",
      "98   6100008  Gyeongsangnam-do              -  False   \n",
      "99   6100009  Gyeongsangnam-do              -  False   \n",
      "100  7000001           Jeju-do              -  False   \n",
      "101  7000002           Jeju-do              -  False   \n",
      "\n",
      "                    infection_case  confirmed   latitude   longitude  \n",
      "0              Guro-gu Call Center         96  37.508163  126.884387  \n",
      "1                    Dongan Church         20  37.592888  127.056766  \n",
      "2            Manmin Central Church         20  37.481059  126.894343  \n",
      "3    Eunpyeong St. Mary's Hospital         14   37.63369    126.9165  \n",
      "4                 Seongdong-gu APT         13   37.55713    127.0403  \n",
      "..                             ...        ...        ...         ...  \n",
      "97                 overseas inflow          6          -           -  \n",
      "98            contact with patient          5          -           -  \n",
      "99                             etc         17          -           -  \n",
      "100                overseas inflow          5          -           -  \n",
      "101                            etc          4          -           -  \n",
      "\n",
      "[102 rows x 8 columns]\n",
      "\n",
      "\n",
      "     case_id          province  group                 infection_case  \\\n",
      "0    1000001             Seoul   True            Guro-gu Call Center   \n",
      "1    1000002             Seoul   True                  Dongan Church   \n",
      "2    1000003             Seoul   True          Manmin Central Church   \n",
      "3    1000004             Seoul   True  Eunpyeong St. Mary's Hospital   \n",
      "4    1000005             Seoul   True               Seongdong-gu APT   \n",
      "..       ...               ...    ...                            ...   \n",
      "97   6100007  Gyeongsangnam-do  False                overseas inflow   \n",
      "98   6100008  Gyeongsangnam-do  False           contact with patient   \n",
      "99   6100009  Gyeongsangnam-do  False                            etc   \n",
      "100  7000001           Jeju-do  False                overseas inflow   \n",
      "101  7000002           Jeju-do  False                            etc   \n",
      "\n",
      "     confirmed   latitude   longitude  \n",
      "0           96  37.508163  126.884387  \n",
      "1           20  37.592888  127.056766  \n",
      "2           20  37.481059  126.894343  \n",
      "3           14   37.63369    126.9165  \n",
      "4           13   37.55713    127.0403  \n",
      "..         ...        ...         ...  \n",
      "97           6          -           -  \n",
      "98           5          -           -  \n",
      "99          17          -           -  \n",
      "100          5          -           -  \n",
      "101          4          -           -  \n",
      "\n",
      "[102 rows x 7 columns]\n",
      "\n",
      "\n",
      "     case_id          province  group                 infection_case  \\\n",
      "0    1000001             Seoul   True            Guro-gu Call Center   \n",
      "1    1000002             Seoul   True                  Dongan Church   \n",
      "2    1000003             Seoul   True          Manmin Central Church   \n",
      "3    1000004             Seoul   True  Eunpyeong St. Mary's Hospital   \n",
      "4    1000005             Seoul   True               Seongdong-gu APT   \n",
      "..       ...               ...    ...                            ...   \n",
      "97   6100007  Gyeongsangnam-do  False                overseas inflow   \n",
      "98   6100008  Gyeongsangnam-do  False           contact with patient   \n",
      "99   6100009  Gyeongsangnam-do  False                            etc   \n",
      "100  7000001           Jeju-do  False                overseas inflow   \n",
      "101  7000002           Jeju-do  False                            etc   \n",
      "\n",
      "     confirmed   latitude   longitude country  \n",
      "0           96  37.508163  126.884387   korea  \n",
      "1           20  37.592888  127.056766   korea  \n",
      "2           20  37.481059  126.894343   korea  \n",
      "3           14   37.63369    126.9165   korea  \n",
      "4           13   37.55713    127.0403   korea  \n",
      "..         ...        ...         ...     ...  \n",
      "97           6          -           -   korea  \n",
      "98           5          -           -   korea  \n",
      "99          17          -           -   korea  \n",
      "100          5          -           -   korea  \n",
      "101          4          -           -   korea  \n",
      "\n",
      "[102 rows x 8 columns]\n",
      "\n",
      "\n"
     ]
    },
    {
     "output_type": "stream",
     "name": "stderr",
     "text": [
      "/usr/local/lib/python3.7/dist-packages/pandas/core/frame.py:4913: SettingWithCopyWarning: \n",
      "A value is trying to be set on a copy of a slice from a DataFrame\n",
      "\n",
      "See the caveats in the documentation: https://pandas.pydata.org/pandas-docs/stable/user_guide/indexing.html#returning-a-view-versus-a-copy\n",
      "  errors=errors,\n"
     ]
    }
   ]
  }
 ]
}