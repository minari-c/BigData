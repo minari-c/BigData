﻿{
 "cells": [
  {
   "cell_type": "code",
   "execution_count": null,
   "outputs": [],
   "source": [
    "import pandas as pd\n",
    "# conda install -c anaconda xlrd\n",
    "# conda install -c anaconda openpyxl\n",
    "\n",
    "import os\n",
    "from multiprocessing import Pool, TimeoutError\n",
    "\n",
    "\n",
    "def foo(file_name):\n",
    "    print(file_name)\n",
    "\n",
    "\n",
    "folder_path = '../xlsx/'\n",
    "\n",
    "xlsx_paths = list()\n",
    "\n",
    "file_names = os.listdir(folder_path)\n",
    "for year in file_names:\n",
    "    # print(os.listdir(f'{folder_path}{year}'))\n",
    "    xlsx_paths.append(os.listdir(f'{folder_path}{year}'))\n",
    "\n",
    "\n",
    "with Pool(processes=16) as pool:\n",
    "    pool.map(foo, xlsx_paths)\n",
    "    pool.close()\n",
    "    pool.join()\n",
    "\n",
    "\n",
    "\n",
    "\n",
    "# for year\n",
    "#     xlsx = pd.read_excel(f'../xlsx/{}')\n",
    "\n"
   ],
   "metadata": {
    "collapsed": false
   }
  }
 ],
 "metadata": {
  "kernelspec": {
   "display_name": "Python 3",
   "language": "python",
   "name": "python3"
  },
  "language_info": {
   "codemirror_mode": {
    "name": "ipython",
    "version": 2
   },
   "file_extension": ".py",
   "mimetype": "text/x-python",
   "name": "python",
   "nbconvert_exporter": "python",
   "pygments_lexer": "ipython2",
   "version": "2.7.6"
  }
 },
 "nbformat": 4,
 "nbformat_minor": 0
}
