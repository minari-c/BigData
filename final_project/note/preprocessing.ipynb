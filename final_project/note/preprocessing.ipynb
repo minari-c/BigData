﻿{
 "cells": [
  {
   "cell_type": "code",
   "execution_count": null,
   "outputs": [],
   "source": [
    "import pandas as pd\n",
    "# conda install -c anaconda xlrd\n",
    "# conda install -c anaconda openpyxl\n",
    "\n",
    "import os\n",
    "from multiprocessing import Pool, TimeoutError, freeze_support\n",
    "\n",
    "\n",
    "def foo(file_info):\n",
    "    print(file_info)\n",
    "\n",
    "\n",
    "folder_path = '../xlsx/'\n",
    "xlsx_path_infos = list()\n",
    "\n",
    "\n",
    "file_names = os.listdir(folder_path)\n",
    "for year in file_names:\n",
    "    # print(os.listdir(f'{folder_path}{year}'))\n",
    "    for file_name in os.listdir(f'{folder_path}{year}'):\n",
    "        xlsx_path_infos.append([f'{folder_path}{year}/', file_name])\n",
    "\n",
    "\n",
    "if __name__ == '__main__':  # for windows os\n",
    "    freeze_support()        # for windows os\n",
    "    with Pool(processes=16) as pool:\n",
    "        pool.map(foo, xlsx_path_infos)\n",
    "        pool.close()\n",
    "        pool.join()\n"
   ],
   "metadata": {
    "collapsed": false
   }
  }
 ],
 "metadata": {
  "kernelspec": {
   "display_name": "Python 3",
   "language": "python",
   "name": "python3"
  },
  "language_info": {
   "codemirror_mode": {
    "name": "ipython",
    "version": 2
   },
   "file_extension": ".py",
   "mimetype": "text/x-python",
   "name": "python",
   "nbconvert_exporter": "python",
   "pygments_lexer": "ipython2",
   "version": "2.7.6"
  }
 },
 "nbformat": 4,
 "nbformat_minor": 0
}
