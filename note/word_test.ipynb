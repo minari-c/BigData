{
  "cells": [
    {
      "cell_type": "code",
      "source": [
        "%%bash\n",
        "apt-get update\n",
        "apt-get install g++ openjdk-8-jdk python-dev python3-dev\n",
        "pip3 install JPype1\n",
        "pip3 install konlpy"
      ],
      "metadata": {
        "id": "clX1pqb0l5Ie"
      },
      "execution_count": null,
      "outputs": []
    },
    {
      "cell_type": "code",
      "source": [
        "%env JAVA_HOME \"/usr/lib/jvm/java-8-openjdk-amd64\""
      ],
      "metadata": {
        "colab": {
          "base_uri": "https://localhost:8080/"
        },
        "id": "GxFCFOCKmMtL",
        "outputId": "cc6bc403-6037-4e53-c681-55a5fc926c88"
      },
      "execution_count": null,
      "outputs": [
        {
          "output_type": "stream",
          "name": "stdout",
          "text": [
            "env: JAVA_HOME=\"/usr/lib/jvm/java-8-openjdk-amd64\"\n"
          ]
        }
      ]
    },
    {
      "cell_type": "markdown",
      "metadata": {
        "id": "szn61w6vl27g"
      },
      "source": [
        "# 8장. 텍스트빈도분석 - 2) 한글 단어 분석 "
      ]
    },
    {
      "cell_type": "markdown",
      "metadata": {
        "id": "VjcTdXvkl27j"
      },
      "source": [
        "## 한글 단어 분석을 위한 패키지 준비"
      ]
    },
    {
      "cell_type": "code",
      "execution_count": null,
      "metadata": {
        "id": "AdYph1b4l27l"
      },
      "outputs": [],
      "source": [
        "import json\n",
        "import re\n",
        "\n",
        "from konlpy.tag import Okt\n",
        "\n",
        "from collections import Counter\n",
        "\n",
        "import matplotlib\n",
        "import matplotlib.pyplot as plt\n",
        "from matplotlib import font_manager, rc\n",
        "from wordcloud import WordCloud"
      ]
    },
    {
      "cell_type": "markdown",
      "metadata": {
        "id": "H8ypsjN3l27n"
      },
      "source": [
        "# 1. 데이터 준비"
      ]
    },
    {
      "cell_type": "markdown",
      "metadata": {
        "id": "3JPNnWrbl27n"
      },
      "source": [
        "### 1-1. 파일 읽기"
      ]
    },
    {
      "cell_type": "code",
      "execution_count": null,
      "metadata": {
        "id": "sRnPz4mdl27o"
      },
      "outputs": [],
      "source": [
        "inputFileName = '/content/월드컵_naver_news'\n",
        "data = json.loads(open(inputFileName+'.json', 'r', encoding='utf-8').read())\n",
        "data #출력하여 내용 확인"
      ]
    },
    {
      "cell_type": "markdown",
      "metadata": {
        "id": "6FLNWW9tl27o"
      },
      "source": [
        "### 1-2. 분석할 데이터 추출"
      ]
    },
    {
      "cell_type": "code",
      "execution_count": null,
      "metadata": {
        "id": "vZ1AHW3vl27p"
      },
      "outputs": [],
      "source": [
        "message = ''\n",
        "\n",
        "for item in data:\n",
        "#    if 'message' in item.keys(): \n",
        "#        message = message + re.sub(r'[^\\w]', ' ', item['message']) +''\n",
        "    if 'description' in item.keys(): \n",
        "        message = message + re.sub(r'[^\\w]', ' ', item['description']) +''\n",
        "        \n",
        "message #출력하여 내용 확인"
      ]
    },
    {
      "cell_type": "markdown",
      "metadata": {
        "id": "YB7Tff2Jl27p"
      },
      "source": [
        "### 1-3. 품사 태깅 : 명사 추출"
      ]
    },
    {
      "cell_type": "code",
      "execution_count": null,
      "metadata": {
        "scrolled": true,
        "id": "Pgsbc_Y-l27q"
      },
      "outputs": [],
      "source": [
        "nlp = Okt()\n",
        "message_N = nlp.nouns(message)\n",
        "message_N   #출력하여 내용 확인"
      ]
    },
    {
      "cell_type": "markdown",
      "metadata": {
        "id": "j2VGRQqAl27q"
      },
      "source": [
        "## 2. 데이터 탐색"
      ]
    },
    {
      "cell_type": "markdown",
      "metadata": {
        "id": "ZD9NUVyKl27r"
      },
      "source": [
        "### 2-1. 단어 빈도 탐색"
      ]
    },
    {
      "cell_type": "code",
      "execution_count": null,
      "metadata": {
        "id": "VoZlqs8Ll27r"
      },
      "outputs": [],
      "source": [
        "count = Counter(message_N)\n",
        "\n",
        "count   #출력하여 내용 확인"
      ]
    },
    {
      "cell_type": "code",
      "execution_count": null,
      "metadata": {
        "scrolled": true,
        "id": "PDt7GUigl27s"
      },
      "outputs": [],
      "source": [
        "word_count = dict()\n",
        "\n",
        "for tag, counts in count.most_common(80):\n",
        "    if(len(str(tag))>1):\n",
        "        word_count[tag] = counts\n",
        "        print(\"%s : %d\" % (tag, counts))"
      ]
    },
    {
      "cell_type": "markdown",
      "metadata": {
        "id": "EgxXLNE0l27s"
      },
      "source": [
        "### 히스토그램"
      ]
    },
    {
      "cell_type": "code",
      "source": [
        "!apt-get update -qq\n",
        "!apt-get install fonts-nanum* -qq "
      ],
      "metadata": {
        "id": "bADhcuS2oN0S"
      },
      "execution_count": null,
      "outputs": []
    },
    {
      "cell_type": "code",
      "execution_count": null,
      "metadata": {
        "id": "9sxWIGC7l27t"
      },
      "outputs": [],
      "source": [
        "import matplotlib.font_manager as fm\n",
        "font_path = \"/usr/share/fonts/truetype/nanum/NanumGothicEco.ttf\"\n",
        "font_name = fm.FontProperties(fname = font_path).get_name()\n",
        "matplotlib.rc('font', family=font_name)\n",
        "fm._rebuild()"
      ]
    },
    {
      "cell_type": "code",
      "execution_count": null,
      "metadata": {
        "scrolled": true,
        "id": "FiyvWjatl27t"
      },
      "outputs": [],
      "source": [
        "plt.figure(figsize=(12,5))\n",
        "plt.xlabel('키워드')\n",
        "plt.ylabel('빈도수')\n",
        "plt.grid(True)\n",
        "\n",
        "sorted_Keys = sorted(word_count, key=word_count.get, reverse=True)\n",
        "sorted_Values = sorted(word_count.values(), reverse=True)\n",
        "\n",
        "plt.bar(range(len(word_count)), sorted_Values, align='center')\n",
        "plt.xticks(range(len(word_count)), list(sorted_Keys), rotation='75')\n",
        "\n",
        "plt.show()"
      ]
    },
    {
      "cell_type": "markdown",
      "metadata": {
        "id": "behnfiLCl27u"
      },
      "source": [
        "### 워드클라우드"
      ]
    },
    {
      "cell_type": "code",
      "execution_count": null,
      "metadata": {
        "id": "jmG_YFsCl27u"
      },
      "outputs": [],
      "source": [
        "wc = WordCloud(font_path, background_color='ivory', width=800, height=600)\n",
        "cloud=wc.generate_from_frequencies(word_count)\n",
        "\n",
        "plt.figure(figsize=(8,8))\n",
        "plt.imshow(cloud)\n",
        "plt.axis('off')\n",
        "plt.show()"
      ]
    },
    {
      "cell_type": "code",
      "execution_count": null,
      "metadata": {
        "id": "3J-016VOl27v",
        "outputId": "f3702095-32d4-493c-9a9b-63a789c9429b",
        "colab": {
          "base_uri": "https://localhost:8080/"
        }
      },
      "outputs": [
        {
          "output_type": "execute_result",
          "data": {
            "text/plain": [
              "<wordcloud.wordcloud.WordCloud at 0x7fb5b24df910>"
            ]
          },
          "metadata": {},
          "execution_count": 38
        }
      ],
      "source": [
        "cloud.to_file(inputFileName + '_cloud.jpg')"
      ]
    },
    {
      "cell_type": "code",
      "execution_count": null,
      "metadata": {
        "id": "KYDcXs6Rl27v"
      },
      "outputs": [],
      "source": []
    }
  ],
  "metadata": {
    "kernelspec": {
      "display_name": "Python 3",
      "language": "python",
      "name": "python3"
    },
    "language_info": {
      "codemirror_mode": {
        "name": "ipython",
        "version": 3
      },
      "file_extension": ".py",
      "mimetype": "text/x-python",
      "name": "python",
      "nbconvert_exporter": "python",
      "pygments_lexer": "ipython3",
      "version": "3.8.3"
    },
    "colab": {
      "provenance": []
    }
  },
  "nbformat": 4,
  "nbformat_minor": 0
}