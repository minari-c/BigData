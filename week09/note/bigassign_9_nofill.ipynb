{
 "nbformat": 4,
 "nbformat_minor": 0,
 "metadata": {
  "colab": {
   "provenance": [],
   "collapsed_sections": []
  },
  "kernelspec": {
   "name": "python3",
   "display_name": "Python 3"
  },
  "language_info": {
   "name": "python"
  }
 },
 "cells": [
  {
   "cell_type": "markdown",
   "source": [
    "그리드 서치"
   ],
   "metadata": {
    "id": "Q5pWfcC221mm"
   }
  },
  {
   "cell_type": "code",
   "execution_count": null,
   "metadata": {
    "colab": {
     "base_uri": "https://localhost:8080/"
    },
    "id": "4F65-fxYcfMw",
    "outputId": "0c31b7f6-5ebf-4257-c71e-55d3ac20432e"
   },
   "outputs": [
    {
     "output_type": "stream",
     "name": "stdout",
     "text": [
      "{'max_depth': 4, 'min_samples_split': 2}\n",
      "0.9666666666666668\n"
     ]
    }
   ],
   "source": [
    "from sklearn.datasets import load_iris\n",
    "from sklearn.tree import DecisionTreeClassifier\n",
    "from sklearn.model_selection import GridSearchCV\n",
    "\n",
    "\n",
    "iris = load_iris()\n",
    "X = iris.data[:, 2:] # petal length and width\n",
    "y = iris.target\n",
    "params = {'max_depth': range(3, 10, 1),\n",
    "          'min_samples_split': range(2, 10, 1)\n",
    "          }\n",
    "gs = GridSearchCV(DecisionTreeClassifier(random_state=42), params, n_jobs=-1)\n",
    "gs.fit(X, y)\n",
    "print(gs.best_params_)\n",
    "print(gs.best_score_)"
   ]
  },
  {
   "cell_type": "markdown",
   "source": [
    "랜덤 서치"
   ],
   "metadata": {
    "id": "ioCmGkK442nS"
   }
  },
  {
   "cell_type": "code",
   "source": [
    "from sklearn.datasets import load_iris\n",
    "from sklearn.tree import DecisionTreeClassifier\n",
    "from sklearn.model_selection import RandomizedSearchCV\n",
    "from scipy.stats import randint\n",
    "\n",
    "\n",
    "iris = load_iris()\n",
    "X = iris.data[:, 2:] # petal length and width\n",
    "y = iris.target\n",
    "params = {'max_depth': randint(3, 10),\n",
    "          'min_samples_split': randint(2, 10)\n",
    "          }\n",
    "gs = RandomizedSearchCV(DecisionTreeClassifier(random_state=42), params,n_iter=10, n_jobs=-1)\n",
    "gs.fit(X, y)\n",
    "print(gs.best_params_)\n",
    "print(gs.best_score_)"
   ],
   "metadata": {
    "colab": {
     "base_uri": "https://localhost:8080/"
    },
    "id": "On-bkBb344-g",
    "outputId": "ad81165d-a8db-45b9-b3ff-6b207917111f"
   },
   "execution_count": null,
   "outputs": [
    {
     "output_type": "stream",
     "name": "stdout",
     "text": [
      "{'min_samples_split': 6, 'max_depth': 9}\n",
      "0.9666666666666668\n"
     ]
    }
   ]
  },
  {
   "cell_type": "markdown",
   "source": [
    "분류 : 피마 인디안 당뇨병 데이터"
   ],
   "metadata": {
    "id": "O-rENr7q24Py"
   }
  },
  {
   "cell_type": "code",
   "execution_count": null,
   "metadata": {
    "id": "1af0945b"
   },
   "outputs": [],
   "source": [
    "import pandas as pd\n",
    "from sklearn.ensemble import RandomForestClassifier\n",
    "import matplotlib.pyplot as plt\n",
    "from sklearn.model_selection import train_test_split, cross_val_score, StratifiedKFold\n",
    "from matplotlib import pyplot\n",
    "\n",
    "# 피마 인디언 당뇨병 데이터셋을 불러옵니다. \n",
    "df = pd.read_csv('/content/pima-indians-diabetes3.csv')\n",
    "\n",
    "# 세부 정보를 X로 지정합니다.\n",
    "X = df.iloc[:,0:8]\n",
    "# 당뇨병 여부를 Y로 지정합니다.\n",
    "y = df.iloc[:,8]\n",
    "\n",
    "al = RandomForestClassifier(n_estimators=10)\n",
    "al.fit(X, y)\n",
    "\n",
    "cscore=cross_val_score(al,X,y,cv=5)  # 교차 검증 k=5\n",
    "print('accuracy',cscore.mean())\n",
    "X.shape\n"
   ]
  },
  {
   "cell_type": "code",
   "source": [
    "import pandas as pd\n",
    "from sklearn.ensemble import AdaBoostClassifier\n",
    "\n",
    "# 피마 인디언 당뇨병 데이터셋을 불러옵니다. \n",
    "df = pd.read_csv('/content/pima-indians-diabetes3.csv')\n",
    "\n",
    "# 세부 정보를 X로 지정합니다.\n",
    "X = df.iloc[:,0:8]\n",
    "# 당뇨병 여부를 Y로 지정합니다.\n",
    "y = df.iloc[:,8]\n",
    "\n",
    "al = AdaBoostClassifier()\n",
    "al.fit(X, y)\n",
    "\n",
    "cscore=cross_val_score(al,X,y,cv=5)  # 교차 검증 k=5\n",
    "print('accuracy',cscore.mean())"
   ],
   "metadata": {
    "id": "kcZm9vV8JDD_"
   },
   "execution_count": null,
   "outputs": []
  },
  {
   "cell_type": "code",
   "source": [
    "import pandas as pd\n",
    "from sklearn.svm import SVC\n",
    "from sklearn.model_selection import train_test_split, cross_val_score, StratifiedKFold\n",
    "\n",
    "# 피마 인디언 당뇨병 데이터셋을 불러옵니다. \n",
    "df = pd.read_csv('/content/pima-indians-diabetes3.csv')\n",
    "\n",
    "# 세부 정보를 X로 지정합니다.\n",
    "X = df.iloc[:,0:8]\n",
    "# 당뇨병 여부를 Y로 지정합니다.\n",
    "y = df.iloc[:,8]\n",
    "\n",
    "al = SVC()\n",
    "al.fit(X, y)\n",
    "\n",
    "cscore=cross_val_score(al,X,y,cv=5)  # 교차 검증 k=5\n",
    "print('accuracy',cscore.mean())\n",
    "X.shape"
   ],
   "metadata": {
    "id": "yGseu0a703-m"
   },
   "execution_count": null,
   "outputs": []
  },
  {
   "cell_type": "code",
   "source": [
    "import pandas as pd\n",
    "from xgboost import XGBClassifier\n",
    "from sklearn.model_selection import train_test_split, cross_val_score, StratifiedKFold\n",
    "\n",
    "\n",
    "# 피마 인디언 당뇨병 데이터셋을 불러옵니다. \n",
    "df = pd.read_csv('/content/pima-indians-diabetes3.csv')\n",
    "\n",
    "# 세부 정보를 X로 지정합니다.\n",
    "X = df.iloc[:,0:8]\n",
    "# 당뇨병 여부를 Y로 지정합니다.\n",
    "y = df.iloc[:,8]\n",
    "\n",
    "al = XGBClassifier()\n",
    "al.fit(X, y)\n",
    "\n",
    "cscore=cross_val_score(al,X,y,cv=5)  # 교차 검증 k=5\n",
    "print('accuracy',cscore.mean())\n",
    "X.shape"
   ],
   "metadata": {
    "id": "_A093NYJ2JnC"
   },
   "execution_count": null,
   "outputs": []
  },
  {
   "cell_type": "code",
   "source": [
    "import pandas as pd\n",
    "from lightgbm import LGBMClassifier\n",
    "from sklearn.model_selection import train_test_split, cross_val_score, StratifiedKFold\n",
    "\n",
    "# 피마 인디언 당뇨병 데이터셋을 불러옵니다. \n",
    "df = pd.read_csv('/content/pima-indians-diabetes3.csv')\n",
    "\n",
    "# 세부 정보를 X로 지정합니다.\n",
    "X = df.iloc[:,0:8]\n",
    "# 당뇨병 여부를 Y로 지정합니다.\n",
    "y = df.iloc[:,8]\n",
    "\n",
    "al = LGBMClassifier()\n",
    "al.fit(X, y)\n",
    "\n",
    "cscore=cross_val_score(al,X,y,cv=5)  # 교차 검증 k=5\n",
    "print('accuracy',cscore.mean())\n",
    "X.shape"
   ],
   "metadata": {
    "id": "2IGoK7YQ1pGW"
   },
   "execution_count": null,
   "outputs": []
  },
  {
   "cell_type": "markdown",
   "source": [
    "회귀 : 보스턴 집값"
   ],
   "metadata": {
    "id": "EipibmEG3qaI"
   }
  },
  {
   "cell_type": "code",
   "source": [
    "from sklearn.model_selection import cross_val_score\n",
    "import pandas as pd\n",
    "from sklearn.svm import SVR\n",
    "import pandas as pd\n",
    "import numpy as np\n",
    "\n",
    "\n",
    "\n",
    "\n",
    "raw_df = pd.read_csv('/content/Boston_house.csv')\n",
    "\n",
    "y_target = raw_df['Target']\n",
    "X_data = raw_df.drop(['Target'], axis=1,inplace=False)\n",
    "\n",
    "print(y_target.shape)\n",
    "print(X_data.shape)\n",
    "\n",
    "rf = SVR()\n",
    "neg_mse_scores = cross_val_score(rf, X_data, y_target, scoring=\"neg_mean_squared_error\", cv = 5)\n",
    "rmse_scores  = np.sqrt(-1 * neg_mse_scores)\n",
    "avg_rmse = np.mean(rmse_scores)\n",
    "\n",
    "print(' 5 교차 검증의 개별 Negative MSE scores: ', np.round(neg_mse_scores, 2))\n",
    "print(' 5 교차 검증의 개별 RMSE scores : ', np.round(rmse_scores, 2))\n",
    "print(' 5 교차 검증의 평균 RMSE : {0:.3f} '.format(avg_rmse))"
   ],
   "metadata": {
    "id": "z6vujl8P3-ge"
   },
   "execution_count": null,
   "outputs": []
  },
  {
   "cell_type": "code",
   "source": [
    "def get_model_cv_prediction(model, X_data, y_target):\n",
    "    neg_mse_scores = cross_val_score(model, X_data, y_target, scoring=\"neg_mean_squared_error\", cv = 5)\n",
    "    rmse_scores  = np.sqrt(-1 * neg_mse_scores)\n",
    "    avg_rmse = np.mean(rmse_scores)\n",
    "    print('##### ',model.__class__.__name__ , ' #####')\n",
    "    print(' 5 교차 검증의 평균 RMSE : {0:.3f} '.format(avg_rmse))"
   ],
   "metadata": {
    "id": "JYSuIPbaymE9"
   },
   "execution_count": null,
   "outputs": []
  },
  {
   "cell_type": "code",
   "source": [
    "from sklearn.linear_model import LinearRegression\n",
    "from sklearn.svm import SVR\n",
    "from sklearn.ensemble import AdaBoostRegressor\n",
    "from xgboost import XGBRegressor\n",
    "from lightgbm import LGBMRegressor\n",
    "\n",
    "raw_df = pd.read_csv('/content/Boston_house.csv')\n",
    "\n",
    "y_target = raw_df['Target']\n",
    "X_data = raw_df.drop(['Target'], axis=1,inplace=False)\n",
    "\n",
    "lr_reg = LinearRegression()\n",
    "svr_reg = SVR()\n",
    "#ada_reg = AdaBoostRegressor(random_state=0, n_estimators=1000)\n",
    "#xgb_reg = XGBRegressor(n_estimators=1000)\n",
    "#lgb_reg = LGBMRegressor(n_estimators=1000)\n",
    "ada_reg = AdaBoostRegressor()\n",
    "xgb_reg = XGBRegressor()\n",
    "lgb_reg = LGBMRegressor()\n",
    "\n",
    "# 트리 기반의 회귀 모델을 반복하면서 평가 수행 \n",
    "models = [lr_reg, svr_reg,ada_reg,  xgb_reg, lgb_reg]\n",
    "for model in models:  \n",
    "    get_model_cv_prediction(model, X_data, y_target)"
   ],
   "metadata": {
    "id": "Dt_AvbP7yoKs"
   },
   "execution_count": null,
   "outputs": []
  },
  {
   "cell_type": "markdown",
   "source": [
    "voting"
   ],
   "metadata": {
    "id": "huuWN6GVJZFN"
   }
  },
  {
   "cell_type": "code",
   "source": [
    "import pandas as pd\n",
    "from sklearn.ensemble import AdaBoostClassifier\n",
    "from sklearn.svm import SVC\n",
    "from lightgbm import LGBMClassifier\n",
    "from sklearn.ensemble import VotingClassifier\n",
    "\n",
    "# 피마 인디언 당뇨병 데이터셋을 불러옵니다. \n",
    "df = pd.read_csv('/content/pima-indians-diabetes3.csv')\n",
    "\n",
    "# 세부 정보를 X로 지정합니다.\n",
    "X = df.iloc[:,0:8]\n",
    "# 당뇨병 여부를 Y로 지정합니다.\n",
    "y = df.iloc[:,8]\n",
    "\n",
    "clf1 = AdaBoostClassifier()\n",
    "clf2= SVC()\n",
    "clf3=LGBMClassifier()\n",
    "\n",
    "classifier=VotingClassifier(estimators=[('ada',clf1),('svc',clf2),('lgbm',clf3)],verbose=True)\n",
    "classifier.fit(X,y)\n",
    "\n",
    "\n",
    "al.fit(X, y)\n",
    "\n",
    "cscore=cross_val_score(classifier,X,y,cv=5)  # 교차 검증 k=5\n",
    "print('accuracy',cscore.mean())"
   ],
   "metadata": {
    "id": "MiezAWnqJVyB"
   },
   "execution_count": null,
   "outputs": []
  },
  {
   "cell_type": "markdown",
   "source": [
    "feature importance"
   ],
   "metadata": {
    "id": "NX1ZT-XFMIGl"
   }
  },
  {
   "cell_type": "code",
   "source": [
    "import seaborn as sns\n",
    "%matplotlib inline\n",
    "import pandas as pd\n",
    "\n",
    "\n",
    "df = pd.read_csv('/content/pima-indians-diabetes3.csv')\n",
    "\n",
    "# 세부 정보를 X로 지정합니다.\n",
    "X = df.iloc[:,0:8]\n",
    "# 당뇨병 여부를 Y로 지정합니다.\n",
    "# 당뇨병 여부를 Y로 지정합니다.\n",
    "y = df.iloc[:,8]\n",
    "\n",
    "xgb_cls = XGBClassifier(n_estimators=1000)\n",
    "\n",
    "# 앞 예제에서 만들어진 X_data, y_target 데이터 셋을 적용하여 학습합니다.   \n",
    "xgb_cls.fit(X, y)\n",
    "\n",
    "feature_series = pd.Series(data=xgb_cls.feature_importances_, index=X.columns )\n",
    "#feature_series = feature_series.sort_values(ascending=False)\n",
    "sns.barplot(x= feature_series, y=feature_series.index)"
   ],
   "metadata": {
    "id": "SDxeRhZO5g3q"
   },
   "execution_count": null,
   "outputs": []
  },
  {
   "cell_type": "code",
   "source": [
    "import seaborn as sns\n",
    "%matplotlib inline\n",
    "import pandas as pd\n",
    "\n",
    "\n",
    "df = pd.read_csv('/content/pima-indians-diabetes3.csv')\n",
    "\n",
    "# 세부 정보를 X로 지정합니다.\n",
    "X = df.iloc[:,0:8]\n",
    "# 당뇨병 여부를 Y로 지정합니다.\n",
    "y = df.iloc[:,8]\n",
    "\n",
    "lgbm_cls = LGBMClassifier(n_estimators=1000)\n",
    "\n",
    "# 앞 예제에서 만들어진 X_data, y_target 데이터 셋을 적용하여 학습합니다.   \n",
    "lgbm_cls.fit(X, y)\n",
    "\n",
    "feature_series = pd.Series(data=lgbm_cls.feature_importances_, index=X.columns )\n",
    "#feature_series = feature_series.sort_values(ascending=False)\n",
    "sns.barplot(x= feature_series, y=feature_series.index)"
   ],
   "metadata": {
    "id": "wwrV8n9I5ubz"
   },
   "execution_count": null,
   "outputs": []
  },
  {
   "cell_type": "code",
   "source": [
    "import seaborn as sns\n",
    "%matplotlib inline\n",
    "from sklearn.ensemble import AdaBoostClassifier\n",
    "import pandas as pd\n",
    "\n",
    "df = pd.read_csv('/content/pima-indians-diabetes3.csv')\n",
    "\n",
    "# 세부 정보를 X로 지정합니다.\n",
    "X = df.iloc[:,0:8]\n",
    "# 당뇨병 여부를 Y로 지정합니다.\n",
    "y = df.iloc[:,8]\n",
    "\n",
    "\n",
    "ada_cls = AdaBoostClassifier(n_estimators=1000)\n",
    "\n",
    "# 앞 예제에서 만들어진 X_data, y_target 데이터 셋을 적용하여 학습합니다.   \n",
    "ada_cls.fit(X, y)\n",
    "\n",
    "feature_series = pd.Series(data=ada_cls.feature_importances_, index=X.columns )\n",
    "#feature_series = feature_series.sort_values(ascending=False)\n",
    "sns.barplot(x= feature_series, y=feature_series.index)"
   ],
   "metadata": {
    "id": "LvSh2gRf57xt"
   },
   "execution_count": null,
   "outputs": []
  }
 ]
}
