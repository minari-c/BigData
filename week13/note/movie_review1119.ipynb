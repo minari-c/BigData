{
  "nbformat": 4,
  "nbformat_minor": 0,
  "metadata": {
    "colab": {
      "provenance": []
    },
    "kernelspec": {
      "name": "python3",
      "display_name": "Python 3"
    },
    "language_info": {
      "name": "python"
    }
  },
  "cells": [
    {
      "cell_type": "markdown",
      "source": [
        "과제2)\n",
        "test_movie_review30.csv   파일의 label 컬럼을 채우고  \n",
        "\n",
        "마지막 줄에는 영화 타이틀, 리뷰, label 을 채운 후  \n",
        "\n",
        "다음  code를 수행 하여 예측 결과와 label의 차이를 확인.  \n",
        "movie_review1119.ipynb와  review_results.txt 제출"
      ],
      "metadata": {
        "id": "W_RKuMFRwkSU"
      }
    },
    {
      "cell_type": "code",
      "source": [
        "!pip install konlpy"
      ],
      "metadata": {
        "id": "iZ_3qqORbUm6"
      },
      "execution_count": null,
      "outputs": []
    },
    {
      "cell_type": "code",
      "source": [
        "from konlpy.tag import Okt\n",
        "\n",
        "okt = Okt()\n",
        "def okt_tokenizer(text):\n",
        "    tokens = okt.morphs(text)\n",
        "    return tokens"
      ],
      "metadata": {
        "id": "5H_tXu7PbV0W"
      },
      "execution_count": null,
      "outputs": []
    },
    {
      "cell_type": "code",
      "source": [
        "import pandas as pd\n",
        "test_df = pd.read_csv('/content/test_movie_review30.csv', encoding='utf8')\n",
        "test_df.head()"
      ],
      "metadata": {
        "id": "f65Wznh9TEKt"
      },
      "execution_count": null,
      "outputs": []
    },
    {
      "cell_type": "code",
      "source": [
        "print(test_df['label'].value_counts())"
      ],
      "metadata": {
        "id": "8nqhtRD8TaGV"
      },
      "execution_count": null,
      "outputs": []
    },
    {
      "cell_type": "markdown",
      "source": [
        "한글이 아닌것은 공백으로 치환"
      ],
      "metadata": {
        "id": "5764OuQZZ4gQ"
      }
    },
    {
      "cell_type": "code",
      "source": [
        "import re\n",
        "test_df['review'] = test_df['review'].apply(lambda x : re.sub(r'[^ ㄱ-ㅣ가-힣]+', \"\", x))"
      ],
      "metadata": {
        "id": "azaguNA_TjYv"
      },
      "execution_count": null,
      "outputs": []
    },
    {
      "cell_type": "code",
      "source": [
        "print(test_df['review'].head())"
      ],
      "metadata": {
        "id": "VTV8-jNEWB05"
      },
      "execution_count": null,
      "outputs": []
    },
    {
      "cell_type": "markdown",
      "source": [
        "토큰 생성기 load"
      ],
      "metadata": {
        "id": "m1Bc3MHBabTS"
      }
    },
    {
      "cell_type": "code",
      "source": [
        "import joblib\n",
        "tfidf = joblib.load('/content/tf_model.pkl')\n",
        "test_tfidf = tfidf.transform(test_df['review'])"
      ],
      "metadata": {
        "id": "Tn0gkv3fXJDT"
      },
      "execution_count": null,
      "outputs": []
    },
    {
      "cell_type": "markdown",
      "source": [
        "감성 분류 모델 load"
      ],
      "metadata": {
        "id": "EW5HfykFadg6"
      }
    },
    {
      "cell_type": "code",
      "source": [
        "lr_model = joblib.load('/content/lr_model.pkl')"
      ],
      "metadata": {
        "id": "7khrojnrUhVG"
      },
      "execution_count": null,
      "outputs": []
    },
    {
      "cell_type": "code",
      "source": [
        "test_predict=lr_model.predict(test_tfidf)\n",
        "from sklearn.metrics import accuracy_score\n",
        "\n",
        "print('감성 분석 정확도 : ', round(accuracy_score(test_df['label'], test_predict), 3))"
      ],
      "metadata": {
        "id": "0d4swb6cUmLX"
      },
      "execution_count": null,
      "outputs": []
    },
    {
      "cell_type": "code",
      "source": [
        "test_df['predicted_label']=test_predict"
      ],
      "metadata": {
        "id": "2HPffUyAbkHg"
      },
      "execution_count": null,
      "outputs": []
    },
    {
      "cell_type": "code",
      "source": [
        "print('### 영화별 긍정 review 수 ###')\n",
        "print(test_df.groupby('title')['predicted_label'].sum())\n"
      ],
      "metadata": {
        "id": "oTKOend8buYH"
      },
      "execution_count": null,
      "outputs": []
    },
    {
      "cell_type": "code",
      "source": [
        "mask=test_df['label']!=test_df['predicted_label']"
      ],
      "metadata": {
        "id": "3HaSBTN3fo-Q"
      },
      "execution_count": null,
      "outputs": []
    },
    {
      "cell_type": "code",
      "source": [
        "print('### 예측이 잘못된 review')\n",
        "print(test_df.loc[mask,['review']])"
      ],
      "metadata": {
        "id": "LRGj89eEgSPD"
      },
      "execution_count": null,
      "outputs": []
    },
    {
      "cell_type": "code",
      "source": [
        "print(test_df.tail())"
      ],
      "metadata": {
        "id": "rFUtj95FjMJW"
      },
      "execution_count": null,
      "outputs": []
    },
    {
      "cell_type": "code",
      "source": [
        "test_df.to_csv('review_results.txt')"
      ],
      "metadata": {
        "id": "Z-YF6LP7m05P"
      },
      "execution_count": null,
      "outputs": []
    }
  ]
}