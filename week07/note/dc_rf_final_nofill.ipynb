{
 "nbformat": 4,
 "nbformat_minor": 0,
 "metadata": {
  "colab": {
   "provenance": [],
   "collapsed_sections": []
  },
  "kernelspec": {
   "name": "python3",
   "display_name": "Python 3"
  },
  "language_info": {
   "name": "python"
  }
 },
 "cells": [
  {
   "cell_type": "markdown",
   "source": [
    "의사 결정 트리 분류"
   ],
   "metadata": {
    "id": "8a4p2dQi7Mi4"
   }
  },
  {
   "cell_type": "code",
   "execution_count": null,
   "outputs": [],
   "source": [
    "from sklearn.datasets import load_iris\n",
    "from sklearn.tree import DecisionTreeClassifier\n",
    "from sklearn.model_selection import cross_val_score\n",
    "\n",
    "iris = load_iris()\n",
    "X = iris.data[:, 2:] # petal length and width\n",
    "y = iris.target\n",
    "\n",
    "df = DecisionTreeClassifier(max_depth=3, random_state=42)\n",
    "df.fit(X, y)\n",
    "\n",
    "cscore=cross_val_score(df,X,y,cv=5)  # 교차 검증 k=5\n",
    "print('accuracy',cscore.mean())\n",
    "X.shape"
   ],
   "metadata": {
    "collapsed": false
   }
  },
  {
   "cell_type": "code",
   "source": [
    "import matplotlib.pyplot as plt\n",
    "from sklearn.tree import plot_tree\n",
    "plt.figure(figsize=(10,7))\n",
    "plot_tree(df)\n",
    "plt.show()"
   ],
   "metadata": {
    "id": "_lMNoLWIo_V1"
   },
   "execution_count": null,
   "outputs": []
  },
  {
   "cell_type": "markdown",
   "source": [
    "의사 결정 트리 회귀"
   ],
   "metadata": {
    "id": "ugssirSx7Rof"
   }
  },
  {
   "cell_type": "code",
   "source": [
    "# 2차식으로 만든 데이터셋 + 잡음\n",
    "import numpy as np\n",
    "np.random.seed(42)\n",
    "m = 200\n",
    "X = np.random.rand(m, 1)\n",
    "y = 4 * (X - 0.5) ** 2\n",
    "y = y + np.random.randn(m, 1) / 10\n"
   ],
   "metadata": {
    "id": "otl_8Fios4z9"
   },
   "execution_count": null,
   "outputs": []
  },
  {
   "cell_type": "code",
   "source": [
    "plt.scatter(X,y)\n",
    "plt.xlabel('X')\n",
    "plt.ylabel('y')\n",
    "plt.show()"
   ],
   "metadata": {
    "id": "TuLUeYj2tTf0"
   },
   "execution_count": null,
   "outputs": []
  },
  {
   "cell_type": "code",
   "source": [
    "from sklearn.tree import DecisionTreeRegressor\n",
    "from sklearn.model_selection import cross_val_score\n",
    "y=y.squeeze() ##y가 1차원일때는 삭제\n",
    "tree_reg = DecisionTreeRegressor(max_depth=2, random_state=42)\n",
    "tree_reg.fit(X, y)\n",
    "cscore=cross_val_score(tree_reg,X,y,cv=5,scoring='neg_mean_squared_error')\n",
    "print('RMSE',np.sqrt(-cscore.mean()))\n"
   ],
   "metadata": {
    "id": "lz9nMv_wt6Oi"
   },
   "execution_count": null,
   "outputs": []
  },
  {
   "cell_type": "code",
   "source": [
    "import matplotlib.pyplot as plt\n",
    "from sklearn.tree import plot_tree\n",
    "plt.figure(figsize=(10,7))\n",
    "plot_tree(tree_reg  )\n",
    "plt.show()"
   ],
   "metadata": {
    "id": "WCN18cYot_ri"
   },
   "execution_count": null,
   "outputs": []
  },
  {
   "cell_type": "markdown",
   "source": [
    "랜덤 포레스트 분류"
   ],
   "metadata": {
    "id": "tzIIdhiM7hBx"
   }
  },
  {
   "cell_type": "code",
   "source": [
    "from sklearn.datasets import load_iris\n",
    "from sklearn.ensemble import RandomForestClassifier\n",
    "from sklearn.model_selection import cross_val_score\n",
    "\n",
    "iris = load_iris()\n",
    "X = iris.data[:, 2:] # petal length and width\n",
    "y = iris.target\n",
    "\n",
    "df = RandomForestClassifier(n_estimators=30)\n",
    "df.fit(X, y)\n",
    "\n",
    "cscore=cross_val_score(df,X,y,cv=5)\n",
    "print('accuracy',cscore.mean())\n",
    "y.shape\n",
    "#df.predict([[0.1,0.2]]) 새로운 입력에 대한 예측 "
   ],
   "metadata": {
    "id": "2LRaKCOp1_NT"
   },
   "execution_count": null,
   "outputs": []
  },
  {
   "cell_type": "code",
   "source": [
    "# 2차식으로 만든 데이터셋 + 잡음\n",
    "import numpy as np\n",
    "np.random.seed(42)\n",
    "m = 200\n",
    "X = np.random.rand(m, 1)\n",
    "y = 4 * (X - 0.5) ** 2\n",
    "y = y + np.random.randn(m, 1) / 10\n"
   ],
   "metadata": {
    "id": "Kzj18FRy2yb9"
   },
   "execution_count": null,
   "outputs": []
  },
  {
   "cell_type": "markdown",
   "source": [
    "랜덤 포레스트 회귀"
   ],
   "metadata": {
    "id": "Jvg7ydJ_7ckq"
   }
  },
  {
   "cell_type": "code",
   "source": [
    "from sklearn.ensemble import RandomForestRegressor\n",
    "from sklearn.model_selection import cross_val_score\n",
    "y=y.squeeze() #y가 1차원일때는 삭제\n",
    "tree_reg = RandomForestRegressor(n_estimators=20)\n",
    "tree_reg.fit(X, y)\n",
    "cscore=cross_val_score(tree_reg,X,y,cv=5,scoring='neg_mean_squared_error')\n",
    "print('RMSE',np.sqrt(-cscore.mean()))\n",
    "X.shape\n",
    "print(y.shape)"
   ],
   "metadata": {
    "id": "X8dBwcQe2AA7"
   },
   "execution_count": null,
   "outputs": []
  }
 ]
}
