{
 "nbformat": 4,
 "nbformat_minor": 0,
 "metadata": {
  "colab": {
   "provenance": [],
   "collapsed_sections": []
  },
  "kernelspec": {
   "name": "python3",
   "display_name": "Python 3"
  },
  "language_info": {
   "name": "python"
  }
 },
 "cells": [
  {
   "cell_type": "markdown",
   "source": [
    "1. iris3.csv를 읽고   \n",
    "1) species 열의 고유값을 프린트 하고  \n",
    "2) sepal_length 열의 값을 첫번째 방법으로 정규화 하고    \n",
    "3) sepal_width 열의 값을 두번째 방법으로 정규화하고  \n",
    "4) sepal_length 열과 sepal_width 열의 통계 정보를 print하는 code를 작성 하시오.  \n"
   ],
   "metadata": {
    "id": "rJLHNYNopqB1"
   }
  },
  {
   "cell_type": "code",
   "execution_count": null,
   "metadata": {
    "id": "vmnFhKR9n9Sa"
   },
   "outputs": [],
   "source": [
    "%reset -f\n",
    "import pandas as pd\n",
    "\n",
    "df = pd.read_csv('../csv/iris3.csv')\n",
    "print(df)\n",
    "print(df.columns)\n",
    "\n",
    "# 1)\n",
    "print(df['species'].unique())\n",
    "\n",
    "# 2)\n",
    "df['sepal_length'] = df['sepal_length'] / df['sepal_length'].max()\n",
    "print(df['sepal_length'])\n",
    "\n",
    "# 3)\n",
    "df['sepal_width'] = \\\n",
    "\t(df['sepal_width'] - df['sepal_width'].min()) / (df['sepal_width'].max() - df['sepal_width'].min())\n",
    "# print(df['sepal_width'])\n",
    "\n",
    "# 4)\n",
    "for col_name in ['sepal_length', 'sepal_width']:\n",
    "\tprint(df[col_name].describe())\n",
    "\n"
   ]
  },
  {
   "cell_type": "markdown",
   "source": [
    "2. iris3.csv를 읽고   \n",
    "1) petal_length과 petal_width 열에 mean_min 함수를  적용하고  \n",
    "2) 결과 값을 프린트 하는 code를 작성 하시오"
   ],
   "metadata": {
    "id": "u8mzSAsYwsXf"
   }
  },
  {
   "cell_type": "code",
   "source": [
    "%reset -f\n",
    "import pandas as pd\n",
    "\n",
    "df = pd.read_csv('../csv/iris3.csv')\n",
    "\n",
    "\n",
    "def mean_min(x):\n",
    "     return x.mean() - x.min()\n",
    "\n",
    "\n",
    "# 1)\n",
    "result = df.loc[:, ['petal_length', 'petal_width']].apply(mean_min, axis=1)\n",
    "\n",
    "# 2)\n",
    "print(result)\n"
   ],
   "metadata": {
    "id": "wGHR8JQkwFUq"
   },
   "execution_count": null,
   "outputs": []
  },
  {
   "cell_type": "markdown",
   "source": [
    "3. titanic 데이터에서  \n",
    "1)  age 열이 25세 이상이고 남성인  행만 구하고  \n",
    "2)  이중 앞의 5행만 print하는 하는 code를 작성 하시오\n"
   ],
   "metadata": {
    "id": "qJ75TeG0zN0e"
   }
  },
  {
   "cell_type": "code",
   "source": [
    "%reset -f \n",
    "import pandas as pd\n",
    "import seaborn as sns\n",
    "\n",
    "titanic=sns.load_dataset('titanic')\n",
    "\n",
    "titanic.dropna(subset=['age'], inplace=True)\n",
    "\n",
    "# 1)\n",
    "result = titanic.loc[(titanic['age'] >= 25) & (titanic['sex'] == 'male'), :]\n",
    "\n",
    "# 2)\n",
    "print(result.iloc[:5])  # [0 ~ 4]\n"
   ],
   "metadata": {
    "id": "YEgnkWgqy27o"
   },
   "execution_count": null,
   "outputs": []
  },
  {
   "cell_type": "markdown",
   "source": [
    "4. 아래의 code에서 정의 되는 df1, df2, df3에서  \n",
    "1) df1과 df2를 위 아래로 연결하고 새로운 인덱스를 설정하여 print 히고    \n",
    "2) df1과 df3를 좌 우로 연결 하고  print하는    \n",
    "code를 작성 하시오   "
   ],
   "metadata": {
    "id": "Z8Sqwzuh6HAQ"
   }
  },
  {
   "cell_type": "code",
   "source": [
    "%reset -f \n",
    "import pandas as pd\n",
    "\n",
    "# 데이터 프레임 1\n",
    "df1 = pd.DataFrame([\n",
    "        ['a', 1],\n",
    "        ['b', 2]\n",
    "    ],\n",
    "    columns=['letter', 'number'])\n",
    "print(df1)\n",
    "\n",
    "# 데이터 프레임 2\n",
    "df2 = pd.DataFrame([\n",
    "        ['c', 3],\n",
    "        ['d', 4]\n",
    "    ],\n",
    "    columns=['letter', 'number'])\n",
    "print(df2)\n",
    "\n",
    "# 데이터 프레임 3\n",
    "df3 = pd.DataFrame([\n",
    "        ['bird', 'polly'],\n",
    "        ['monkey', 'george']\n",
    "    ],\n",
    "    columns=['animal', 'name'])\n",
    "print(df3)\n",
    "\n",
    "# 1)\n",
    "print(pd.concat([df1, df2], axis=0))\n",
    "\n",
    "\n",
    "# 2)\n",
    "print(pd.concat([df1, df3], axis=1))\n"
   ],
   "metadata": {
    "id": "nvCPbZIZ52Pk"
   },
   "execution_count": null,
   "outputs": []
  },
  {
   "cell_type": "markdown",
   "source": [
    "5.아래의 code에서 정의 되는 adf, bdf에서  \n",
    "1) x1 열을 기준으로 adf, bdf의 교집합을 병합하고 print  \n",
    "2) x1 영을 기준으로 adf, bdf의 합집합을 병합하고 print  \n",
    "3) x1 열을 기준으로 왼쪽 데이터 프레임(adf)을 기준으로 병합하고 print  \n",
    "4)  x1 열을 기준으로 오른쪽 데이터 프레임(bdf)을 기준으로 병합하고 print  \n",
    "하는 code를 작성하시오 \n"
   ],
   "metadata": {
    "id": "hf9uQI2j7C0f"
   }
  },
  {
   "cell_type": "code",
   "source": [
    "%reset -f \n",
    "import pandas as pd\n",
    "\n",
    "# 실습을 위한 데이터 프레임 만들기 1\n",
    "adf = pd.DataFrame({\n",
    "    \"x1\": [\"A\", \"B\", \"C\"],\n",
    "    \"x2\": [1, 2, 3]\n",
    "})\n",
    "print(adf)\n",
    "# 데이터 프레임 만들기 2\n",
    "bdf = pd.DataFrame({\n",
    "    \"x1\": [\"A\", \"B\", \"D\"],\n",
    "    \"x3\": [\"T\", \"F\", \"T\"]\n",
    "})\n",
    "print(bdf)\n",
    "\n",
    "# print(pd.merge.__doc__)\n",
    "# 1)\n",
    "print(pd.merge(left=adf, right=bdf, how='inner', on='x1'), end='\\n\\n')\n",
    "\n",
    "# 2)\n",
    "print(pd.merge(left=adf, right=bdf, how='outer', on='x1'), end='\\n\\n')\n",
    "\n",
    "# 3)\n",
    "print(pd.merge(left=adf, right=bdf, how='left', on='x1'), end='\\n\\n')\n",
    "\n",
    "# 4)\n",
    "print(pd.merge(left=adf, right=bdf, how='right', on='x1'), end='\\n\\n')\n",
    "\n"
   ],
   "metadata": {
    "id": "NjtO7l8d73Lf"
   },
   "execution_count": null,
   "outputs": []
  },
  {
   "cell_type": "markdown",
   "source": [
    "6.exam2.csv 파일을 읽고   \n",
    "1) nclass 기준으로 group별 평균을 구하고 print하고  \n",
    "2) nclass 기준으로 group별 최고점을 구하고 print하는  \n",
    "code를 작성 하시오  \n"
   ],
   "metadata": {
    "id": "fvAlVxiD-W_e"
   }
  },
  {
   "cell_type": "code",
   "source": [
    "%reset -f \n",
    "import pandas as pd\n",
    "\n",
    "df = pd.read_csv('../csv/exam2.csv', header=0)\n",
    "\n",
    "by_nclass_df = df.drop('id', axis=1).groupby('nclass')  # id 열 제거 후 nclass로 DataFrameGrouBy object 생성\n",
    "\n",
    "# 1)\n",
    "print(by_nclass_df.mean())\n",
    "\n",
    "# 2)\n",
    "print(by_nclass_df.max())\n"
   ],
   "metadata": {
    "id": "O7AVSYr_-S1J"
   },
   "execution_count": null,
   "outputs": []
  },
  {
   "cell_type": "markdown",
   "source": [
    "(선택) 7. stock price 파일과 stock valuation 파일을 이용하는 문제입니다   \n",
    "1) id를 중심으로 병합된 데이터프레임(adf)를 만들어주세요, (교집합)  \n",
    "2) adf 데이터프레임을 이용해 시가총액(value)이 10000 이상인 기업들의 주가(price), 주가수익비율(per), 주가자산비율(pbr)의 표준편차를 구하세요  \n",
    "3) adf 데이터프레임을 사용합니다.    \n",
    "주가수익비율(per)은 주가(price)에서 주당순이익(eps)을 나눠서 계산합니다.    \n",
    "예시) per = price/eps    \n",
    "3-1) 기존의 per열은 삭제한 후 새롭게 per_new열을 price와 eps 를 사용해 추가해주세요    \n",
    "3-2) per_new값이 15 이상인 기업은 고평가 15미만인 기업은 저평가를 나타내주는 per_value 열을 만들어주세요 (단, lambda와 apply를 사용해주세요)  \n",
    "4) adf를 프린트 합니다.   "
   ],
   "metadata": {
    "id": "Fus6vgqeAheD"
   }
  },
  {
   "cell_type": "code",
   "source": [
    "%reset -f \n",
    "import numpy as np\n",
    "import pandas as pd\n",
    "\n",
    "df_price = pd.read_excel('../xlsx/stock price.xlsx', header=0, engine='openpyxl')\n",
    "df_value = pd.read_excel('../xlsx/stock valuation.xlsx', header=0, engine='openpyxl')\n",
    "\n",
    "# 1)\n",
    "adf = pd.merge(df_price, df_value, how='inner', on='id')\n",
    "\n",
    "# 2)\n",
    "print(adf.loc[(adf['value'] >= 10000), ['price', 'per', 'pbr']].std())\n",
    "\n",
    "# 3-1)\n",
    "adf.drop(['per'], axis=1, inplace=True)\n",
    "adf['per_new'] = adf.apply(lambda x: x['price'] / x['eps'], axis=1)\n",
    "\n",
    "# 3-2)\n",
    "adf['per_value'] = adf.apply(lambda x: '고평가' if x['per_new'] >= 15 else '저평가', axis=1, result_type='expand')\n",
    "\n",
    "# 4)\n",
    "print(adf)\n"
   ],
   "metadata": {
    "id": "ekueK-pTCNbV"
   },
   "execution_count": null,
   "outputs": []
  }
 ]
}
